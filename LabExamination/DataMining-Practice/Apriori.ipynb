{
 "cells": [
  {
   "cell_type": "code",
   "execution_count": 4,
   "metadata": {},
   "outputs": [],
   "source": [
    "from apyori import apriori\n",
    "import pandas as pd\n",
    "import numpy as np\n",
    "import matplotlib.pyplot as plt\n",
    "import random"
   ]
  },
  {
   "cell_type": "code",
   "execution_count": 10,
   "metadata": {},
   "outputs": [],
   "source": [
    "data = {\n",
    "    'sugar':list(\" \".join(random.choices(['0','1'])) for i in range(0,100)),\n",
    "    'corn':list(\" \".join(random.choices(['0','1'])) for i in range(0,100)),\n",
    "    'apple':list(\" \".join(random.choices(['0','1']))for i in range(0,100)),\n",
    "    'beetroot':list(\" \".join(random.choices(['0','1'])) for i in range(0,100)),\n",
    "    'banana':list(\" \".join(random.choices(['0','1'])) for i in range(0,100)),\n",
    "    'orange':list(\" \".join(random.choices(['0','1'])) for i in range(0,100))\n",
    "}"
   ]
  },
  {
   "cell_type": "code",
   "execution_count": 11,
   "metadata": {},
   "outputs": [
    {
     "name": "stdout",
     "output_type": "stream",
     "text": [
      "{'sugar': ['1', '1', '1', '0', '1', '0', '1', '0', '1', '1', '1', '0', '0', '0', '0', '0', '0', '0', '1', '1', '0', '1', '1', '1', '1', '0', '1', '1', '0', '1', '0', '1', '0', '0', '1', '0', '0', '1', '0', '0', '1', '0', '0', '0', '1', '1', '1', '1', '1', '1', '1', '1', '1', '1', '0', '0', '0', '0', '0', '1', '0', '1', '0', '0', '1', '0', '1', '0', '1', '1', '0', '0', '0', '1', '1', '1', '0', '1', '0', '0', '0', '0', '0', '0', '0', '0', '1', '0', '1', '1', '0', '1', '1', '0', '0', '1', '1', '0', '0', '0'], 'corn': ['1', '0', '1', '0', '0', '1', '1', '0', '0', '1', '1', '0', '1', '0', '1', '1', '0', '0', '1', '0', '0', '0', '1', '1', '1', '0', '1', '0', '0', '1', '0', '1', '0', '0', '1', '1', '1', '0', '1', '1', '0', '0', '1', '0', '1', '0', '0', '1', '1', '0', '0', '1', '0', '1', '0', '0', '0', '0', '1', '0', '1', '0', '0', '0', '0', '0', '0', '1', '0', '0', '0', '0', '1', '0', '1', '0', '1', '1', '1', '0', '0', '1', '1', '1', '0', '1', '0', '1', '0', '1', '1', '0', '0', '0', '1', '1', '1', '0', '0', '1'], 'apple': ['1', '0', '1', '0', '1', '0', '1', '1', '1', '1', '0', '1', '0', '0', '1', '0', '1', '0', '1', '1', '1', '1', '0', '0', '0', '1', '0', '1', '1', '1', '0', '1', '1', '0', '1', '0', '1', '1', '0', '1', '0', '1', '1', '0', '0', '1', '1', '1', '0', '0', '1', '1', '0', '1', '0', '0', '1', '1', '1', '0', '1', '1', '1', '1', '1', '0', '0', '1', '1', '1', '1', '0', '0', '1', '0', '1', '1', '1', '1', '0', '0', '1', '1', '1', '0', '0', '1', '0', '0', '0', '0', '0', '0', '0', '1', '1', '1', '0', '1', '1'], 'beetroot': ['1', '1', '0', '0', '0', '1', '1', '0', '1', '0', '0', '1', '1', '0', '1', '0', '1', '1', '1', '1', '1', '1', '0', '0', '1', '1', '1', '0', '1', '0', '1', '1', '1', '1', '0', '1', '1', '1', '0', '0', '1', '0', '0', '0', '1', '0', '0', '1', '1', '0', '0', '1', '1', '0', '1', '0', '1', '0', '1', '0', '1', '1', '1', '1', '0', '1', '0', '0', '1', '1', '1', '0', '0', '1', '0', '0', '0', '1', '1', '0', '1', '0', '0', '1', '1', '1', '1', '1', '0', '1', '1', '1', '0', '0', '1', '1', '1', '0', '0', '1'], 'banana': ['0', '0', '1', '1', '0', '1', '0', '0', '1', '0', '0', '0', '0', '0', '0', '1', '0', '0', '1', '1', '0', '1', '1', '1', '1', '0', '0', '1', '1', '1', '0', '1', '0', '0', '0', '1', '1', '0', '1', '0', '0', '1', '1', '0', '1', '0', '1', '0', '1', '1', '1', '0', '1', '0', '0', '1', '0', '1', '0', '0', '1', '1', '0', '0', '1', '1', '0', '1', '0', '0', '0', '0', '0', '0', '1', '0', '0', '0', '0', '0', '0', '1', '1', '1', '0', '0', '0', '0', '1', '0', '0', '0', '0', '1', '0', '0', '0', '0', '1', '0'], 'orange': ['0', '1', '1', '1', '0', '0', '0', '1', '0', '1', '0', '0', '0', '1', '0', '0', '1', '0', '1', '1', '1', '1', '0', '1', '1', '0', '1', '1', '0', '1', '1', '0', '0', '0', '1', '1', '1', '0', '0', '1', '1', '0', '0', '0', '0', '1', '0', '0', '0', '1', '0', '1', '0', '1', '1', '0', '1', '1', '1', '1', '1', '0', '0', '1', '0', '0', '0', '1', '0', '0', '0', '1', '1', '1', '1', '1', '1', '1', '1', '1', '0', '0', '0', '1', '1', '1', '1', '1', '0', '1', '0', '1', '0', '0', '1', '1', '0', '0', '1', '1']}\n"
     ]
    }
   ],
   "source": [
    "print(data)"
   ]
  },
  {
   "cell_type": "code",
   "execution_count": 12,
   "metadata": {},
   "outputs": [],
   "source": [
    "df = pd.DataFrame(data=data,columns=['sugar','corn','apple','beetroot','banana','orange'])"
   ]
  },
  {
   "cell_type": "code",
   "execution_count": 16,
   "metadata": {},
   "outputs": [],
   "source": [
    "df.to_csv('ans.csv')"
   ]
  },
  {
   "cell_type": "code",
   "execution_count": 17,
   "metadata": {},
   "outputs": [
    {
     "data": {
      "text/html": [
       "<div>\n",
       "<style scoped>\n",
       "    .dataframe tbody tr th:only-of-type {\n",
       "        vertical-align: middle;\n",
       "    }\n",
       "\n",
       "    .dataframe tbody tr th {\n",
       "        vertical-align: top;\n",
       "    }\n",
       "\n",
       "    .dataframe thead th {\n",
       "        text-align: right;\n",
       "    }\n",
       "</style>\n",
       "<table border=\"1\" class=\"dataframe\">\n",
       "  <thead>\n",
       "    <tr style=\"text-align: right;\">\n",
       "      <th></th>\n",
       "      <th>sugar</th>\n",
       "      <th>corn</th>\n",
       "      <th>apple</th>\n",
       "      <th>beetroot</th>\n",
       "      <th>banana</th>\n",
       "      <th>orange</th>\n",
       "    </tr>\n",
       "  </thead>\n",
       "  <tbody>\n",
       "    <tr>\n",
       "      <th>0</th>\n",
       "      <td>1</td>\n",
       "      <td>1</td>\n",
       "      <td>1</td>\n",
       "      <td>1</td>\n",
       "      <td>0</td>\n",
       "      <td>0</td>\n",
       "    </tr>\n",
       "    <tr>\n",
       "      <th>1</th>\n",
       "      <td>1</td>\n",
       "      <td>0</td>\n",
       "      <td>0</td>\n",
       "      <td>1</td>\n",
       "      <td>0</td>\n",
       "      <td>1</td>\n",
       "    </tr>\n",
       "    <tr>\n",
       "      <th>2</th>\n",
       "      <td>1</td>\n",
       "      <td>1</td>\n",
       "      <td>1</td>\n",
       "      <td>0</td>\n",
       "      <td>1</td>\n",
       "      <td>1</td>\n",
       "    </tr>\n",
       "    <tr>\n",
       "      <th>3</th>\n",
       "      <td>0</td>\n",
       "      <td>0</td>\n",
       "      <td>0</td>\n",
       "      <td>0</td>\n",
       "      <td>1</td>\n",
       "      <td>1</td>\n",
       "    </tr>\n",
       "    <tr>\n",
       "      <th>4</th>\n",
       "      <td>1</td>\n",
       "      <td>0</td>\n",
       "      <td>1</td>\n",
       "      <td>0</td>\n",
       "      <td>0</td>\n",
       "      <td>0</td>\n",
       "    </tr>\n",
       "  </tbody>\n",
       "</table>\n",
       "</div>"
      ],
      "text/plain": [
       "  sugar corn apple beetroot banana orange\n",
       "0     1    1     1        1      0      0\n",
       "1     1    0     0        1      0      1\n",
       "2     1    1     1        0      1      1\n",
       "3     0    0     0        0      1      1\n",
       "4     1    0     1        0      0      0"
      ]
     },
     "execution_count": 17,
     "metadata": {},
     "output_type": "execute_result"
    }
   ],
   "source": [
    "df.head()"
   ]
  },
  {
   "cell_type": "code",
   "execution_count": 18,
   "metadata": {},
   "outputs": [],
   "source": [
    "records = []\n",
    "for i in range(len(df)):\n",
    "    record = []\n",
    "    for j in range(len(df.columns)):\n",
    "        if df.values[i,j]:\n",
    "            record.append(df.columns[j])\n",
    "    if len(record) != 0:\n",
    "        records.append(record)"
   ]
  },
  {
   "cell_type": "code",
   "execution_count": 25,
   "metadata": {},
   "outputs": [],
   "source": [
    "rules = list(apriori(records,min_support=0.4,min_confidence=0.6))"
   ]
  },
  {
   "cell_type": "code",
   "execution_count": 27,
   "metadata": {},
   "outputs": [
    {
     "name": "stdout",
     "output_type": "stream",
     "text": [
      "RelationRecord(items=frozenset({'apple'}), support=1.0, ordered_statistics=[OrderedStatistic(items_base=frozenset(), items_add=frozenset({'apple'}), confidence=1.0, lift=1.0)])\n"
     ]
    }
   ],
   "source": [
    "print(rules[0])"
   ]
  },
  {
   "cell_type": "code",
   "execution_count": 32,
   "metadata": {},
   "outputs": [
    {
     "name": "stdout",
     "output_type": "stream",
     "text": [
      "RelationRecord(items=frozenset({'beetroot', 'apple'}), support=1.0, ordered_statistics=[OrderedStatistic(items_base=frozenset(), items_add=frozenset({'beetroot', 'apple'}), confidence=1.0, lift=1.0), OrderedStatistic(items_base=frozenset({'apple'}), items_add=frozenset({'beetroot'}), confidence=1.0, lift=1.0), OrderedStatistic(items_base=frozenset({'beetroot'}), items_add=frozenset({'apple'}), confidence=1.0, lift=1.0)])\n"
     ]
    }
   ],
   "source": [
    "a = rules[7]\n",
    "print(a)"
   ]
  },
  {
   "cell_type": "code",
   "execution_count": 33,
   "metadata": {},
   "outputs": [
    {
     "name": "stdout",
     "output_type": "stream",
     "text": [
      "frozenset({'beetroot', 'apple'})\n",
      "1.0\n",
      "[OrderedStatistic(items_base=frozenset(), items_add=frozenset({'beetroot', 'apple'}), confidence=1.0, lift=1.0), OrderedStatistic(items_base=frozenset({'apple'}), items_add=frozenset({'beetroot'}), confidence=1.0, lift=1.0), OrderedStatistic(items_base=frozenset({'beetroot'}), items_add=frozenset({'apple'}), confidence=1.0, lift=1.0)]\n"
     ]
    }
   ],
   "source": [
    "for i in a:\n",
    "    print(i)"
   ]
  },
  {
   "cell_type": "code",
   "execution_count": 35,
   "metadata": {},
   "outputs": [],
   "source": [
    "import pyfpgrowth"
   ]
  },
  {
   "cell_type": "code",
   "execution_count": 37,
   "metadata": {},
   "outputs": [
    {
     "name": "stdout",
     "output_type": "stream",
     "text": [
      "Help on function find_frequent_patterns in module pyfpgrowth.pyfpgrowth:\n",
      "\n",
      "find_frequent_patterns(transactions, support_threshold)\n",
      "    Given a set of transactions, find the patterns in it\n",
      "    over the specified support threshold.\n",
      "\n"
     ]
    }
   ],
   "source": [
    "help(pyfpgrowth.find_frequent_patterns)"
   ]
  },
  {
   "cell_type": "code",
   "execution_count": 45,
   "metadata": {},
   "outputs": [],
   "source": [
    "min_support = 0.4\n",
    "min_confidence = 0.6"
   ]
  },
  {
   "cell_type": "code",
   "execution_count": 49,
   "metadata": {},
   "outputs": [],
   "source": [
    "itemsets = pyfpgrowth.find_frequent_patterns(records,min_support)"
   ]
  },
  {
   "cell_type": "code",
   "execution_count": 50,
   "metadata": {},
   "outputs": [],
   "source": [
    "rules = pyfpgrowth.generate_association_rules(itemsets,min_confidence)"
   ]
  },
  {
   "cell_type": "code",
   "execution_count": 54,
   "metadata": {},
   "outputs": [
    {
     "name": "stdout",
     "output_type": "stream",
     "text": [
      "('corn',) ======> (('apple', 'banana', 'beetroot', 'orange', 'sugar'), 1.0)\n",
      "('sugar',) ======> (('apple', 'banana', 'beetroot', 'corn', 'orange'), 1.0)\n",
      "('apple',) ======> (('banana', 'beetroot', 'corn', 'orange', 'sugar'), 1.0)\n",
      "('beetroot',) ======> (('apple', 'banana', 'corn', 'orange', 'sugar'), 1.0)\n",
      "('banana',) ======> (('apple', 'beetroot', 'corn', 'orange', 'sugar'), 1.0)\n",
      "('orange',) ======> (('apple', 'banana', 'beetroot', 'corn', 'sugar'), 1.0)\n",
      "('apple', 'corn') ======> (('banana', 'beetroot', 'orange', 'sugar'), 1.0)\n",
      "('apple', 'sugar') ======> (('banana', 'beetroot', 'corn', 'orange'), 1.0)\n",
      "('corn', 'sugar') ======> (('apple', 'banana', 'beetroot', 'orange'), 1.0)\n",
      "('beetroot', 'corn') ======> (('apple', 'banana', 'orange', 'sugar'), 1.0)\n",
      "('beetroot', 'sugar') ======> (('apple', 'banana', 'corn', 'orange'), 1.0)\n",
      "('banana', 'corn') ======> (('apple', 'beetroot', 'orange', 'sugar'), 1.0)\n",
      "('banana', 'sugar') ======> (('apple', 'beetroot', 'corn', 'orange'), 1.0)\n",
      "('corn', 'orange') ======> (('apple', 'banana', 'beetroot', 'sugar'), 1.0)\n",
      "('orange', 'sugar') ======> (('apple', 'banana', 'beetroot', 'corn'), 1.0)\n",
      "('apple', 'beetroot') ======> (('banana', 'corn', 'orange', 'sugar'), 1.0)\n",
      "('apple', 'banana') ======> (('beetroot', 'corn', 'orange', 'sugar'), 1.0)\n",
      "('apple', 'orange') ======> (('banana', 'beetroot', 'corn', 'sugar'), 1.0)\n",
      "('banana', 'beetroot') ======> (('apple', 'corn', 'orange', 'sugar'), 1.0)\n",
      "('beetroot', 'orange') ======> (('apple', 'banana', 'corn', 'sugar'), 1.0)\n",
      "('banana', 'orange') ======> (('apple', 'beetroot', 'corn', 'sugar'), 1.0)\n",
      "('apple', 'beetroot', 'corn') ======> (('banana', 'orange', 'sugar'), 1.0)\n",
      "('apple', 'beetroot', 'sugar') ======> (('banana', 'corn', 'orange'), 1.0)\n",
      "('apple', 'corn', 'sugar') ======> (('banana', 'beetroot', 'orange'), 1.0)\n",
      "('beetroot', 'corn', 'sugar') ======> (('apple', 'banana', 'orange'), 1.0)\n",
      "('apple', 'banana', 'corn') ======> (('beetroot', 'orange', 'sugar'), 1.0)\n",
      "('apple', 'banana', 'sugar') ======> (('beetroot', 'corn', 'orange'), 1.0)\n",
      "('banana', 'corn', 'sugar') ======> (('apple', 'beetroot', 'orange'), 1.0)\n",
      "('apple', 'corn', 'orange') ======> (('banana', 'beetroot', 'sugar'), 1.0)\n",
      "('apple', 'orange', 'sugar') ======> (('banana', 'beetroot', 'corn'), 1.0)\n",
      "('corn', 'orange', 'sugar') ======> (('apple', 'banana', 'beetroot'), 1.0)\n",
      "('banana', 'beetroot', 'corn') ======> (('apple', 'orange', 'sugar'), 1.0)\n",
      "('banana', 'beetroot', 'sugar') ======> (('apple', 'corn', 'orange'), 1.0)\n",
      "('beetroot', 'corn', 'orange') ======> (('apple', 'banana', 'sugar'), 1.0)\n",
      "('beetroot', 'orange', 'sugar') ======> (('apple', 'banana', 'corn'), 1.0)\n",
      "('banana', 'corn', 'orange') ======> (('apple', 'beetroot', 'sugar'), 1.0)\n",
      "('banana', 'orange', 'sugar') ======> (('apple', 'beetroot', 'corn'), 1.0)\n",
      "('apple', 'banana', 'beetroot') ======> (('corn', 'orange', 'sugar'), 1.0)\n",
      "('apple', 'beetroot', 'orange') ======> (('banana', 'corn', 'sugar'), 1.0)\n",
      "('apple', 'banana', 'orange') ======> (('beetroot', 'corn', 'sugar'), 1.0)\n",
      "('banana', 'beetroot', 'orange') ======> (('apple', 'corn', 'sugar'), 1.0)\n",
      "('apple', 'banana', 'beetroot', 'corn') ======> (('orange', 'sugar'), 1.0)\n",
      "('apple', 'banana', 'beetroot', 'sugar') ======> (('corn', 'orange'), 1.0)\n",
      "('apple', 'banana', 'corn', 'sugar') ======> (('beetroot', 'orange'), 1.0)\n",
      "('apple', 'beetroot', 'corn', 'sugar') ======> (('banana', 'orange'), 1.0)\n",
      "('banana', 'beetroot', 'corn', 'sugar') ======> (('apple', 'orange'), 1.0)\n",
      "('apple', 'beetroot', 'corn', 'orange') ======> (('banana', 'sugar'), 1.0)\n",
      "('apple', 'beetroot', 'orange', 'sugar') ======> (('banana', 'corn'), 1.0)\n",
      "('apple', 'corn', 'orange', 'sugar') ======> (('banana', 'beetroot'), 1.0)\n",
      "('beetroot', 'corn', 'orange', 'sugar') ======> (('apple', 'banana'), 1.0)\n",
      "('apple', 'banana', 'corn', 'orange') ======> (('beetroot', 'sugar'), 1.0)\n",
      "('apple', 'banana', 'orange', 'sugar') ======> (('beetroot', 'corn'), 1.0)\n",
      "('banana', 'corn', 'orange', 'sugar') ======> (('apple', 'beetroot'), 1.0)\n",
      "('banana', 'beetroot', 'corn', 'orange') ======> (('apple', 'sugar'), 1.0)\n",
      "('banana', 'beetroot', 'orange', 'sugar') ======> (('apple', 'corn'), 1.0)\n",
      "('apple', 'banana', 'beetroot', 'orange') ======> (('corn', 'sugar'), 1.0)\n",
      "('apple', 'banana', 'beetroot', 'corn', 'orange') ======> (('sugar',), 1.0)\n",
      "('apple', 'banana', 'beetroot', 'corn', 'sugar') ======> (('orange',), 1.0)\n",
      "('apple', 'banana', 'beetroot', 'orange', 'sugar') ======> (('corn',), 1.0)\n",
      "('apple', 'banana', 'corn', 'orange', 'sugar') ======> (('beetroot',), 1.0)\n",
      "('apple', 'beetroot', 'corn', 'orange', 'sugar') ======> (('banana',), 1.0)\n",
      "('banana', 'beetroot', 'corn', 'orange', 'sugar') ======> (('apple',), 1.0)\n"
     ]
    }
   ],
   "source": [
    "for i,j in rules.items():\n",
    "    print(i,'======>',j)"
   ]
  },
  {
   "cell_type": "code",
   "execution_count": 55,
   "metadata": {},
   "outputs": [],
   "source": [
    "df = pd.read_csv('data.csv')"
   ]
  },
  {
   "cell_type": "code",
   "execution_count": 56,
   "metadata": {},
   "outputs": [
    {
     "data": {
      "text/html": [
       "<div>\n",
       "<style scoped>\n",
       "    .dataframe tbody tr th:only-of-type {\n",
       "        vertical-align: middle;\n",
       "    }\n",
       "\n",
       "    .dataframe tbody tr th {\n",
       "        vertical-align: top;\n",
       "    }\n",
       "\n",
       "    .dataframe thead th {\n",
       "        text-align: right;\n",
       "    }\n",
       "</style>\n",
       "<table border=\"1\" class=\"dataframe\">\n",
       "  <thead>\n",
       "    <tr style=\"text-align: right;\">\n",
       "      <th></th>\n",
       "      <th>CustID</th>\n",
       "      <th>Age</th>\n",
       "      <th>Gender</th>\n",
       "      <th>Country</th>\n",
       "      <th>Employed</th>\n",
       "      <th>Income</th>\n",
       "      <th>ItemsPurchased(monthly)</th>\n",
       "      <th>ProductType</th>\n",
       "      <th>PaymentType</th>\n",
       "      <th>Mode</th>\n",
       "    </tr>\n",
       "  </thead>\n",
       "  <tbody>\n",
       "    <tr>\n",
       "      <th>0</th>\n",
       "      <td>1</td>\n",
       "      <td>37.0</td>\n",
       "      <td>Male</td>\n",
       "      <td>USA</td>\n",
       "      <td>True</td>\n",
       "      <td>NaN</td>\n",
       "      <td>99.0</td>\n",
       "      <td>BabyCare</td>\n",
       "      <td>Cash</td>\n",
       "      <td>Offline</td>\n",
       "    </tr>\n",
       "    <tr>\n",
       "      <th>1</th>\n",
       "      <td>2</td>\n",
       "      <td>44.0</td>\n",
       "      <td>NaN</td>\n",
       "      <td>Russia</td>\n",
       "      <td>False</td>\n",
       "      <td>463034.0</td>\n",
       "      <td>21.0</td>\n",
       "      <td>BabyCare</td>\n",
       "      <td>Bank Transfer</td>\n",
       "      <td>NaN</td>\n",
       "    </tr>\n",
       "    <tr>\n",
       "      <th>2</th>\n",
       "      <td>3</td>\n",
       "      <td>900.0</td>\n",
       "      <td>Female</td>\n",
       "      <td>India</td>\n",
       "      <td>True</td>\n",
       "      <td>402865.0</td>\n",
       "      <td>31.0</td>\n",
       "      <td>Medical</td>\n",
       "      <td>UPI</td>\n",
       "      <td>Offline</td>\n",
       "    </tr>\n",
       "    <tr>\n",
       "      <th>3</th>\n",
       "      <td>4</td>\n",
       "      <td>46.0</td>\n",
       "      <td>NaN</td>\n",
       "      <td>USA</td>\n",
       "      <td>True</td>\n",
       "      <td>NaN</td>\n",
       "      <td>21.0</td>\n",
       "      <td>BabyCare</td>\n",
       "      <td>UPI</td>\n",
       "      <td>Offline</td>\n",
       "    </tr>\n",
       "    <tr>\n",
       "      <th>4</th>\n",
       "      <td>5</td>\n",
       "      <td>19.0</td>\n",
       "      <td>Female</td>\n",
       "      <td>Australia</td>\n",
       "      <td>True</td>\n",
       "      <td>221868.0</td>\n",
       "      <td>45.0</td>\n",
       "      <td>Medical</td>\n",
       "      <td>Bank Transfer</td>\n",
       "      <td>Online</td>\n",
       "    </tr>\n",
       "  </tbody>\n",
       "</table>\n",
       "</div>"
      ],
      "text/plain": [
       "   CustID    Age  Gender    Country Employed    Income  \\\n",
       "0       1   37.0    Male        USA     True       NaN   \n",
       "1       2   44.0     NaN     Russia    False  463034.0   \n",
       "2       3  900.0  Female      India     True  402865.0   \n",
       "3       4   46.0     NaN        USA     True       NaN   \n",
       "4       5   19.0  Female  Australia     True  221868.0   \n",
       "\n",
       "   ItemsPurchased(monthly) ProductType    PaymentType     Mode  \n",
       "0                     99.0    BabyCare           Cash  Offline  \n",
       "1                     21.0    BabyCare  Bank Transfer      NaN  \n",
       "2                     31.0     Medical            UPI  Offline  \n",
       "3                     21.0    BabyCare            UPI  Offline  \n",
       "4                     45.0     Medical  Bank Transfer   Online  "
      ]
     },
     "execution_count": 56,
     "metadata": {},
     "output_type": "execute_result"
    }
   ],
   "source": [
    "df.head()"
   ]
  },
  {
   "cell_type": "code",
   "execution_count": 59,
   "metadata": {},
   "outputs": [],
   "source": [
    "df = df.fillna(method='ffill')"
   ]
  },
  {
   "cell_type": "code",
   "execution_count": 60,
   "metadata": {},
   "outputs": [
    {
     "data": {
      "text/plain": [
       "CustID                     0\n",
       "Age                        0\n",
       "Gender                     0\n",
       "Country                    0\n",
       "Employed                   0\n",
       "Income                     1\n",
       "ItemsPurchased(monthly)    0\n",
       "ProductType                0\n",
       "PaymentType                0\n",
       "Mode                       0\n",
       "dtype: int64"
      ]
     },
     "execution_count": 60,
     "metadata": {},
     "output_type": "execute_result"
    }
   ],
   "source": [
    "df.isnull().sum()"
   ]
  },
  {
   "cell_type": "code",
   "execution_count": 61,
   "metadata": {},
   "outputs": [
    {
     "data": {
      "text/html": [
       "<div>\n",
       "<style scoped>\n",
       "    .dataframe tbody tr th:only-of-type {\n",
       "        vertical-align: middle;\n",
       "    }\n",
       "\n",
       "    .dataframe tbody tr th {\n",
       "        vertical-align: top;\n",
       "    }\n",
       "\n",
       "    .dataframe thead th {\n",
       "        text-align: right;\n",
       "    }\n",
       "</style>\n",
       "<table border=\"1\" class=\"dataframe\">\n",
       "  <thead>\n",
       "    <tr style=\"text-align: right;\">\n",
       "      <th></th>\n",
       "      <th>CustID</th>\n",
       "      <th>Age</th>\n",
       "      <th>Gender</th>\n",
       "      <th>Country</th>\n",
       "      <th>Employed</th>\n",
       "      <th>Income</th>\n",
       "      <th>ItemsPurchased(monthly)</th>\n",
       "      <th>ProductType</th>\n",
       "      <th>PaymentType</th>\n",
       "      <th>Mode</th>\n",
       "    </tr>\n",
       "  </thead>\n",
       "  <tbody>\n",
       "    <tr>\n",
       "      <th>0</th>\n",
       "      <td>1</td>\n",
       "      <td>37.0</td>\n",
       "      <td>Male</td>\n",
       "      <td>USA</td>\n",
       "      <td>True</td>\n",
       "      <td>NaN</td>\n",
       "      <td>99.0</td>\n",
       "      <td>BabyCare</td>\n",
       "      <td>Cash</td>\n",
       "      <td>Offline</td>\n",
       "    </tr>\n",
       "    <tr>\n",
       "      <th>1</th>\n",
       "      <td>2</td>\n",
       "      <td>44.0</td>\n",
       "      <td>Male</td>\n",
       "      <td>Russia</td>\n",
       "      <td>False</td>\n",
       "      <td>463034.0</td>\n",
       "      <td>21.0</td>\n",
       "      <td>BabyCare</td>\n",
       "      <td>Bank Transfer</td>\n",
       "      <td>Offline</td>\n",
       "    </tr>\n",
       "    <tr>\n",
       "      <th>2</th>\n",
       "      <td>3</td>\n",
       "      <td>900.0</td>\n",
       "      <td>Female</td>\n",
       "      <td>India</td>\n",
       "      <td>True</td>\n",
       "      <td>402865.0</td>\n",
       "      <td>31.0</td>\n",
       "      <td>Medical</td>\n",
       "      <td>UPI</td>\n",
       "      <td>Offline</td>\n",
       "    </tr>\n",
       "    <tr>\n",
       "      <th>3</th>\n",
       "      <td>4</td>\n",
       "      <td>46.0</td>\n",
       "      <td>Female</td>\n",
       "      <td>USA</td>\n",
       "      <td>True</td>\n",
       "      <td>402865.0</td>\n",
       "      <td>21.0</td>\n",
       "      <td>BabyCare</td>\n",
       "      <td>UPI</td>\n",
       "      <td>Offline</td>\n",
       "    </tr>\n",
       "    <tr>\n",
       "      <th>4</th>\n",
       "      <td>5</td>\n",
       "      <td>19.0</td>\n",
       "      <td>Female</td>\n",
       "      <td>Australia</td>\n",
       "      <td>True</td>\n",
       "      <td>221868.0</td>\n",
       "      <td>45.0</td>\n",
       "      <td>Medical</td>\n",
       "      <td>Bank Transfer</td>\n",
       "      <td>Online</td>\n",
       "    </tr>\n",
       "  </tbody>\n",
       "</table>\n",
       "</div>"
      ],
      "text/plain": [
       "   CustID    Age  Gender    Country  Employed    Income  \\\n",
       "0       1   37.0    Male        USA      True       NaN   \n",
       "1       2   44.0    Male     Russia     False  463034.0   \n",
       "2       3  900.0  Female      India      True  402865.0   \n",
       "3       4   46.0  Female        USA      True  402865.0   \n",
       "4       5   19.0  Female  Australia      True  221868.0   \n",
       "\n",
       "   ItemsPurchased(monthly) ProductType    PaymentType     Mode  \n",
       "0                     99.0    BabyCare           Cash  Offline  \n",
       "1                     21.0    BabyCare  Bank Transfer  Offline  \n",
       "2                     31.0     Medical            UPI  Offline  \n",
       "3                     21.0    BabyCare            UPI  Offline  \n",
       "4                     45.0     Medical  Bank Transfer   Online  "
      ]
     },
     "execution_count": 61,
     "metadata": {},
     "output_type": "execute_result"
    }
   ],
   "source": [
    "df.head()"
   ]
  },
  {
   "cell_type": "code",
   "execution_count": 63,
   "metadata": {},
   "outputs": [],
   "source": [
    "df['Income'] = df['Income'].fillna(df['Income'].mean())"
   ]
  },
  {
   "cell_type": "code",
   "execution_count": 75,
   "metadata": {},
   "outputs": [],
   "source": [
    "df.isnull().sum()\n",
    "from sklearn.preprocessing import LabelEncoder"
   ]
  },
  {
   "cell_type": "code",
   "execution_count": 77,
   "metadata": {},
   "outputs": [],
   "source": [
    "df[['Gender','Country','ItemsPurchased(monthly)','ProductType','Mode']] = df[['Gender','Country','ItemsPurchased(monthly)','ProductType','Mode']].apply(LabelEncoder().fit_transform)"
   ]
  },
  {
   "cell_type": "code",
   "execution_count": 78,
   "metadata": {},
   "outputs": [
    {
     "data": {
      "text/html": [
       "<div>\n",
       "<style scoped>\n",
       "    .dataframe tbody tr th:only-of-type {\n",
       "        vertical-align: middle;\n",
       "    }\n",
       "\n",
       "    .dataframe tbody tr th {\n",
       "        vertical-align: top;\n",
       "    }\n",
       "\n",
       "    .dataframe thead th {\n",
       "        text-align: right;\n",
       "    }\n",
       "</style>\n",
       "<table border=\"1\" class=\"dataframe\">\n",
       "  <thead>\n",
       "    <tr style=\"text-align: right;\">\n",
       "      <th></th>\n",
       "      <th>CustID</th>\n",
       "      <th>Age</th>\n",
       "      <th>Gender</th>\n",
       "      <th>Country</th>\n",
       "      <th>Employed</th>\n",
       "      <th>Income</th>\n",
       "      <th>ItemsPurchased(monthly)</th>\n",
       "      <th>ProductType</th>\n",
       "      <th>PaymentType</th>\n",
       "      <th>Mode</th>\n",
       "    </tr>\n",
       "  </thead>\n",
       "  <tbody>\n",
       "    <tr>\n",
       "      <th>0</th>\n",
       "      <td>1</td>\n",
       "      <td>37.0</td>\n",
       "      <td>1</td>\n",
       "      <td>4</td>\n",
       "      <td>True</td>\n",
       "      <td>241081.020408</td>\n",
       "      <td>38</td>\n",
       "      <td>1</td>\n",
       "      <td>Cash</td>\n",
       "      <td>0</td>\n",
       "    </tr>\n",
       "    <tr>\n",
       "      <th>1</th>\n",
       "      <td>2</td>\n",
       "      <td>44.0</td>\n",
       "      <td>1</td>\n",
       "      <td>1</td>\n",
       "      <td>False</td>\n",
       "      <td>463034.000000</td>\n",
       "      <td>5</td>\n",
       "      <td>1</td>\n",
       "      <td>Bank Transfer</td>\n",
       "      <td>0</td>\n",
       "    </tr>\n",
       "    <tr>\n",
       "      <th>2</th>\n",
       "      <td>3</td>\n",
       "      <td>900.0</td>\n",
       "      <td>0</td>\n",
       "      <td>3</td>\n",
       "      <td>True</td>\n",
       "      <td>402865.000000</td>\n",
       "      <td>11</td>\n",
       "      <td>4</td>\n",
       "      <td>UPI</td>\n",
       "      <td>0</td>\n",
       "    </tr>\n",
       "    <tr>\n",
       "      <th>3</th>\n",
       "      <td>4</td>\n",
       "      <td>46.0</td>\n",
       "      <td>0</td>\n",
       "      <td>4</td>\n",
       "      <td>True</td>\n",
       "      <td>402865.000000</td>\n",
       "      <td>5</td>\n",
       "      <td>1</td>\n",
       "      <td>UPI</td>\n",
       "      <td>0</td>\n",
       "    </tr>\n",
       "    <tr>\n",
       "      <th>4</th>\n",
       "      <td>5</td>\n",
       "      <td>19.0</td>\n",
       "      <td>0</td>\n",
       "      <td>2</td>\n",
       "      <td>True</td>\n",
       "      <td>221868.000000</td>\n",
       "      <td>16</td>\n",
       "      <td>4</td>\n",
       "      <td>Bank Transfer</td>\n",
       "      <td>1</td>\n",
       "    </tr>\n",
       "  </tbody>\n",
       "</table>\n",
       "</div>"
      ],
      "text/plain": [
       "   CustID    Age  Gender  Country  Employed         Income  \\\n",
       "0       1   37.0       1        4      True  241081.020408   \n",
       "1       2   44.0       1        1     False  463034.000000   \n",
       "2       3  900.0       0        3      True  402865.000000   \n",
       "3       4   46.0       0        4      True  402865.000000   \n",
       "4       5   19.0       0        2      True  221868.000000   \n",
       "\n",
       "   ItemsPurchased(monthly)  ProductType    PaymentType  Mode  \n",
       "0                       38            1           Cash     0  \n",
       "1                        5            1  Bank Transfer     0  \n",
       "2                       11            4            UPI     0  \n",
       "3                        5            1            UPI     0  \n",
       "4                       16            4  Bank Transfer     1  "
      ]
     },
     "execution_count": 78,
     "metadata": {},
     "output_type": "execute_result"
    }
   ],
   "source": [
    "df.head()"
   ]
  },
  {
   "cell_type": "code",
   "execution_count": 79,
   "metadata": {},
   "outputs": [],
   "source": [
    "X = df[['Gender','Country','ItemsPurchased(monthly)','ProductType']]\n",
    "Y = df['Mode']"
   ]
  },
  {
   "cell_type": "code",
   "execution_count": 80,
   "metadata": {},
   "outputs": [
    {
     "data": {
      "text/plain": [
       "DecisionTreeClassifier()"
      ]
     },
     "execution_count": 80,
     "metadata": {},
     "output_type": "execute_result"
    }
   ],
   "source": [
    "from sklearn.model_selection import train_test_split\n",
    "from sklearn.tree import DecisionTreeClassifier\n",
    "\n",
    "X_train,X_test,Y_train,Y_test  = train_test_split(X,Y)\n",
    "\n",
    "clf = DecisionTreeClassifier()\n",
    "clf.fit(X_train,Y_train)"
   ]
  },
  {
   "cell_type": "code",
   "execution_count": 83,
   "metadata": {},
   "outputs": [],
   "source": [
    "from sklearn.metrics import plot_roc_curve, roc_auc_score,plot_confusion_matrix"
   ]
  },
  {
   "cell_type": "code",
   "execution_count": 84,
   "metadata": {},
   "outputs": [],
   "source": [
    "y_pred = clf.predict(X_test)"
   ]
  },
  {
   "cell_type": "code",
   "execution_count": 88,
   "metadata": {},
   "outputs": [
    {
     "data": {
      "text/plain": [
       "<sklearn.metrics._plot.confusion_matrix.ConfusionMatrixDisplay at 0x7f8706459eb0>"
      ]
     },
     "execution_count": 88,
     "metadata": {},
     "output_type": "execute_result"
    },
    {
     "data": {
      "image/png": "[encoded data removed]",
      "text/plain": [
       "<Figure size 432x288 with 2 Axes>"
      ]
     },
     "metadata": {
      "needs_background": "light"
     },
     "output_type": "display_data"
    }
   ],
   "source": [
    "plot_confusion_matrix(clf,X_test,Y_test)"
   ]
  },
  {
   "cell_type": "code",
   "execution_count": 89,
   "metadata": {},
   "outputs": [
    {
     "data": {
      "text/plain": [
       "<sklearn.metrics._plot.roc_curve.RocCurveDisplay at 0x7f87063e5490>"
      ]
     },
     "execution_count": 89,
     "metadata": {},
     "output_type": "execute_result"
    },
    {
     "data": {
      "image/png": "[encoded data removed]",
      "text/plain": [
       "<Figure size 432x288 with 1 Axes>"
      ]
     },
     "metadata": {
      "needs_background": "light"
     },
     "output_type": "display_data"
    }
   ],
   "source": [
    "plot_roc_curve(clf,X_test,Y_test)"
   ]
  },
  {
   "cell_type": "code",
   "execution_count": 90,
   "metadata": {},
   "outputs": [
    {
     "data": {
      "text/plain": [
       "0.38461538461538464"
      ]
     },
     "execution_count": 90,
     "metadata": {},
     "output_type": "execute_result"
    }
   ],
   "source": [
    "clf.score(X_test,Y_test)"
   ]
  },
  {
   "cell_type": "code",
   "execution_count": null,
   "metadata": {},
   "outputs": [],
   "source": []
  },
  {
   "cell_type": "code",
   "execution_count": null,
   "metadata": {},
   "outputs": [],
   "source": []
  },
  {
   "cell_type": "code",
   "execution_count": null,
   "metadata": {},
   "outputs": [],
   "source": []
  },
  {
   "cell_type": "code",
   "execution_count": null,
   "metadata": {},
   "outputs": [],
   "source": []
  }
 ],
 "metadata": {
  "kernelspec": {
   "display_name": "Python 3",
   "language": "python",
   "name": "python3"
  },
  "language_info": {
   "codemirror_mode": {
    "name": "ipython",
    "version": 3
   },
   "file_extension": ".py",
   "mimetype": "text/x-python",
   "name": "python",
   "nbconvert_exporter": "python",
   "pygments_lexer": "ipython3",
   "version": "3.8.5"
  }
 },
 "nbformat": 4,
 "nbformat_minor": 4
}
