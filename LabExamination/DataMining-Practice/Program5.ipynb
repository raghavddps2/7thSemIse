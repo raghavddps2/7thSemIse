{
 "cells": [
  {
   "cell_type": "code",
   "execution_count": 4,
   "metadata": {},
   "outputs": [],
   "source": [
    "import pandas as pd\n",
    "import numpy as np\n",
    "from sklearn.tree import DecisionTreeClassifier\n",
    "from sklearn.naive_bayes import GaussianNB\n",
    "import matplotlib.pyplot as plt\n",
    "from sklearn.preprocessing import LabelEncoder\n",
    "from sklearn import metrics"
   ]
  },
  {
   "cell_type": "code",
   "execution_count": 6,
   "metadata": {},
   "outputs": [],
   "source": [
    "df = pd.read_csv('data.csv')"
   ]
  },
  {
   "cell_type": "code",
   "execution_count": 7,
   "metadata": {},
   "outputs": [
    {
     "data": {
      "text/html": [
       "<div>\n",
       "<style scoped>\n",
       "    .dataframe tbody tr th:only-of-type {\n",
       "        vertical-align: middle;\n",
       "    }\n",
       "\n",
       "    .dataframe tbody tr th {\n",
       "        vertical-align: top;\n",
       "    }\n",
       "\n",
       "    .dataframe thead th {\n",
       "        text-align: right;\n",
       "    }\n",
       "</style>\n",
       "<table border=\"1\" class=\"dataframe\">\n",
       "  <thead>\n",
       "    <tr style=\"text-align: right;\">\n",
       "      <th></th>\n",
       "      <th>CustID</th>\n",
       "      <th>Age</th>\n",
       "      <th>Gender</th>\n",
       "      <th>Country</th>\n",
       "      <th>Employed</th>\n",
       "      <th>Income</th>\n",
       "      <th>ItemsPurchased(monthly)</th>\n",
       "      <th>ProductType</th>\n",
       "      <th>PaymentType</th>\n",
       "      <th>Mode</th>\n",
       "    </tr>\n",
       "  </thead>\n",
       "  <tbody>\n",
       "    <tr>\n",
       "      <th>0</th>\n",
       "      <td>1</td>\n",
       "      <td>37.0</td>\n",
       "      <td>Male</td>\n",
       "      <td>USA</td>\n",
       "      <td>True</td>\n",
       "      <td>NaN</td>\n",
       "      <td>99.0</td>\n",
       "      <td>BabyCare</td>\n",
       "      <td>Cash</td>\n",
       "      <td>Offline</td>\n",
       "    </tr>\n",
       "    <tr>\n",
       "      <th>1</th>\n",
       "      <td>2</td>\n",
       "      <td>44.0</td>\n",
       "      <td>NaN</td>\n",
       "      <td>Russia</td>\n",
       "      <td>False</td>\n",
       "      <td>463034.0</td>\n",
       "      <td>21.0</td>\n",
       "      <td>BabyCare</td>\n",
       "      <td>Bank Transfer</td>\n",
       "      <td>NaN</td>\n",
       "    </tr>\n",
       "    <tr>\n",
       "      <th>2</th>\n",
       "      <td>3</td>\n",
       "      <td>900.0</td>\n",
       "      <td>Female</td>\n",
       "      <td>India</td>\n",
       "      <td>True</td>\n",
       "      <td>402865.0</td>\n",
       "      <td>31.0</td>\n",
       "      <td>Medical</td>\n",
       "      <td>UPI</td>\n",
       "      <td>Offline</td>\n",
       "    </tr>\n",
       "    <tr>\n",
       "      <th>3</th>\n",
       "      <td>4</td>\n",
       "      <td>46.0</td>\n",
       "      <td>NaN</td>\n",
       "      <td>USA</td>\n",
       "      <td>True</td>\n",
       "      <td>NaN</td>\n",
       "      <td>21.0</td>\n",
       "      <td>BabyCare</td>\n",
       "      <td>UPI</td>\n",
       "      <td>Offline</td>\n",
       "    </tr>\n",
       "    <tr>\n",
       "      <th>4</th>\n",
       "      <td>5</td>\n",
       "      <td>19.0</td>\n",
       "      <td>Female</td>\n",
       "      <td>Australia</td>\n",
       "      <td>True</td>\n",
       "      <td>221868.0</td>\n",
       "      <td>45.0</td>\n",
       "      <td>Medical</td>\n",
       "      <td>Bank Transfer</td>\n",
       "      <td>Online</td>\n",
       "    </tr>\n",
       "  </tbody>\n",
       "</table>\n",
       "</div>"
      ],
      "text/plain": [
       "   CustID    Age  Gender    Country Employed    Income  \\\n",
       "0       1   37.0    Male        USA     True       NaN   \n",
       "1       2   44.0     NaN     Russia    False  463034.0   \n",
       "2       3  900.0  Female      India     True  402865.0   \n",
       "3       4   46.0     NaN        USA     True       NaN   \n",
       "4       5   19.0  Female  Australia     True  221868.0   \n",
       "\n",
       "   ItemsPurchased(monthly) ProductType    PaymentType     Mode  \n",
       "0                     99.0    BabyCare           Cash  Offline  \n",
       "1                     21.0    BabyCare  Bank Transfer      NaN  \n",
       "2                     31.0     Medical            UPI  Offline  \n",
       "3                     21.0    BabyCare            UPI  Offline  \n",
       "4                     45.0     Medical  Bank Transfer   Online  "
      ]
     },
     "execution_count": 7,
     "metadata": {},
     "output_type": "execute_result"
    }
   ],
   "source": [
    "df.head()"
   ]
  },
  {
   "cell_type": "code",
   "execution_count": 8,
   "metadata": {},
   "outputs": [],
   "source": [
    "df = df.drop(['CustID'],axis=1)"
   ]
  },
  {
   "cell_type": "code",
   "execution_count": 9,
   "metadata": {},
   "outputs": [
    {
     "data": {
      "text/html": [
       "<div>\n",
       "<style scoped>\n",
       "    .dataframe tbody tr th:only-of-type {\n",
       "        vertical-align: middle;\n",
       "    }\n",
       "\n",
       "    .dataframe tbody tr th {\n",
       "        vertical-align: top;\n",
       "    }\n",
       "\n",
       "    .dataframe thead th {\n",
       "        text-align: right;\n",
       "    }\n",
       "</style>\n",
       "<table border=\"1\" class=\"dataframe\">\n",
       "  <thead>\n",
       "    <tr style=\"text-align: right;\">\n",
       "      <th></th>\n",
       "      <th>Age</th>\n",
       "      <th>Gender</th>\n",
       "      <th>Country</th>\n",
       "      <th>Employed</th>\n",
       "      <th>Income</th>\n",
       "      <th>ItemsPurchased(monthly)</th>\n",
       "      <th>ProductType</th>\n",
       "      <th>PaymentType</th>\n",
       "      <th>Mode</th>\n",
       "    </tr>\n",
       "  </thead>\n",
       "  <tbody>\n",
       "    <tr>\n",
       "      <th>0</th>\n",
       "      <td>37.0</td>\n",
       "      <td>Male</td>\n",
       "      <td>USA</td>\n",
       "      <td>True</td>\n",
       "      <td>NaN</td>\n",
       "      <td>99.0</td>\n",
       "      <td>BabyCare</td>\n",
       "      <td>Cash</td>\n",
       "      <td>Offline</td>\n",
       "    </tr>\n",
       "    <tr>\n",
       "      <th>1</th>\n",
       "      <td>44.0</td>\n",
       "      <td>NaN</td>\n",
       "      <td>Russia</td>\n",
       "      <td>False</td>\n",
       "      <td>463034.0</td>\n",
       "      <td>21.0</td>\n",
       "      <td>BabyCare</td>\n",
       "      <td>Bank Transfer</td>\n",
       "      <td>NaN</td>\n",
       "    </tr>\n",
       "    <tr>\n",
       "      <th>2</th>\n",
       "      <td>900.0</td>\n",
       "      <td>Female</td>\n",
       "      <td>India</td>\n",
       "      <td>True</td>\n",
       "      <td>402865.0</td>\n",
       "      <td>31.0</td>\n",
       "      <td>Medical</td>\n",
       "      <td>UPI</td>\n",
       "      <td>Offline</td>\n",
       "    </tr>\n",
       "    <tr>\n",
       "      <th>3</th>\n",
       "      <td>46.0</td>\n",
       "      <td>NaN</td>\n",
       "      <td>USA</td>\n",
       "      <td>True</td>\n",
       "      <td>NaN</td>\n",
       "      <td>21.0</td>\n",
       "      <td>BabyCare</td>\n",
       "      <td>UPI</td>\n",
       "      <td>Offline</td>\n",
       "    </tr>\n",
       "    <tr>\n",
       "      <th>4</th>\n",
       "      <td>19.0</td>\n",
       "      <td>Female</td>\n",
       "      <td>Australia</td>\n",
       "      <td>True</td>\n",
       "      <td>221868.0</td>\n",
       "      <td>45.0</td>\n",
       "      <td>Medical</td>\n",
       "      <td>Bank Transfer</td>\n",
       "      <td>Online</td>\n",
       "    </tr>\n",
       "  </tbody>\n",
       "</table>\n",
       "</div>"
      ],
      "text/plain": [
       "     Age  Gender    Country Employed    Income  ItemsPurchased(monthly)  \\\n",
       "0   37.0    Male        USA     True       NaN                     99.0   \n",
       "1   44.0     NaN     Russia    False  463034.0                     21.0   \n",
       "2  900.0  Female      India     True  402865.0                     31.0   \n",
       "3   46.0     NaN        USA     True       NaN                     21.0   \n",
       "4   19.0  Female  Australia     True  221868.0                     45.0   \n",
       "\n",
       "  ProductType    PaymentType     Mode  \n",
       "0    BabyCare           Cash  Offline  \n",
       "1    BabyCare  Bank Transfer      NaN  \n",
       "2     Medical            UPI  Offline  \n",
       "3    BabyCare            UPI  Offline  \n",
       "4     Medical  Bank Transfer   Online  "
      ]
     },
     "execution_count": 9,
     "metadata": {},
     "output_type": "execute_result"
    }
   ],
   "source": [
    "df.head()"
   ]
  },
  {
   "cell_type": "code",
   "execution_count": 10,
   "metadata": {},
   "outputs": [
    {
     "data": {
      "text/plain": [
       "Age                        7\n",
       "Gender                     8\n",
       "Country                    4\n",
       "Employed                   3\n",
       "Income                     4\n",
       "ItemsPurchased(monthly)    4\n",
       "ProductType                4\n",
       "PaymentType                3\n",
       "Mode                       4\n",
       "dtype: int64"
      ]
     },
     "execution_count": 10,
     "metadata": {},
     "output_type": "execute_result"
    }
   ],
   "source": [
    "df.isnull().sum()"
   ]
  },
  {
   "cell_type": "code",
   "execution_count": 11,
   "metadata": {},
   "outputs": [],
   "source": [
    "df['Age'] = df['Age'].fillna(df['Age'].mean())"
   ]
  },
  {
   "cell_type": "code",
   "execution_count": 12,
   "metadata": {},
   "outputs": [
    {
     "data": {
      "text/plain": [
       "Age                        0\n",
       "Gender                     8\n",
       "Country                    4\n",
       "Employed                   3\n",
       "Income                     4\n",
       "ItemsPurchased(monthly)    4\n",
       "ProductType                4\n",
       "PaymentType                3\n",
       "Mode                       4\n",
       "dtype: int64"
      ]
     },
     "execution_count": 12,
     "metadata": {},
     "output_type": "execute_result"
    }
   ],
   "source": [
    "df.isnull().sum()"
   ]
  },
  {
   "cell_type": "code",
   "execution_count": 17,
   "metadata": {},
   "outputs": [],
   "source": [
    "for i in ['Gender','Country','ProductType','PaymentType','Mode']:\n",
    "    df[i] = df[i].fillna(df[i].mode()[0])"
   ]
  },
  {
   "cell_type": "code",
   "execution_count": 18,
   "metadata": {},
   "outputs": [
    {
     "data": {
      "text/html": [
       "<div>\n",
       "<style scoped>\n",
       "    .dataframe tbody tr th:only-of-type {\n",
       "        vertical-align: middle;\n",
       "    }\n",
       "\n",
       "    .dataframe tbody tr th {\n",
       "        vertical-align: top;\n",
       "    }\n",
       "\n",
       "    .dataframe thead th {\n",
       "        text-align: right;\n",
       "    }\n",
       "</style>\n",
       "<table border=\"1\" class=\"dataframe\">\n",
       "  <thead>\n",
       "    <tr style=\"text-align: right;\">\n",
       "      <th></th>\n",
       "      <th>Age</th>\n",
       "      <th>Gender</th>\n",
       "      <th>Country</th>\n",
       "      <th>Employed</th>\n",
       "      <th>Income</th>\n",
       "      <th>ItemsPurchased(monthly)</th>\n",
       "      <th>ProductType</th>\n",
       "      <th>PaymentType</th>\n",
       "      <th>Mode</th>\n",
       "    </tr>\n",
       "  </thead>\n",
       "  <tbody>\n",
       "    <tr>\n",
       "      <th>0</th>\n",
       "      <td>37.0</td>\n",
       "      <td>Male</td>\n",
       "      <td>USA</td>\n",
       "      <td>True</td>\n",
       "      <td>NaN</td>\n",
       "      <td>99.0</td>\n",
       "      <td>BabyCare</td>\n",
       "      <td>Cash</td>\n",
       "      <td>Offline</td>\n",
       "    </tr>\n",
       "    <tr>\n",
       "      <th>1</th>\n",
       "      <td>44.0</td>\n",
       "      <td>Male</td>\n",
       "      <td>Russia</td>\n",
       "      <td>False</td>\n",
       "      <td>463034.0</td>\n",
       "      <td>21.0</td>\n",
       "      <td>BabyCare</td>\n",
       "      <td>Bank Transfer</td>\n",
       "      <td>Online</td>\n",
       "    </tr>\n",
       "    <tr>\n",
       "      <th>2</th>\n",
       "      <td>900.0</td>\n",
       "      <td>Female</td>\n",
       "      <td>India</td>\n",
       "      <td>True</td>\n",
       "      <td>402865.0</td>\n",
       "      <td>31.0</td>\n",
       "      <td>Medical</td>\n",
       "      <td>UPI</td>\n",
       "      <td>Offline</td>\n",
       "    </tr>\n",
       "    <tr>\n",
       "      <th>3</th>\n",
       "      <td>46.0</td>\n",
       "      <td>Male</td>\n",
       "      <td>USA</td>\n",
       "      <td>True</td>\n",
       "      <td>NaN</td>\n",
       "      <td>21.0</td>\n",
       "      <td>BabyCare</td>\n",
       "      <td>UPI</td>\n",
       "      <td>Offline</td>\n",
       "    </tr>\n",
       "    <tr>\n",
       "      <th>4</th>\n",
       "      <td>19.0</td>\n",
       "      <td>Female</td>\n",
       "      <td>Australia</td>\n",
       "      <td>True</td>\n",
       "      <td>221868.0</td>\n",
       "      <td>45.0</td>\n",
       "      <td>Medical</td>\n",
       "      <td>Bank Transfer</td>\n",
       "      <td>Online</td>\n",
       "    </tr>\n",
       "  </tbody>\n",
       "</table>\n",
       "</div>"
      ],
      "text/plain": [
       "     Age  Gender    Country Employed    Income  ItemsPurchased(monthly)  \\\n",
       "0   37.0    Male        USA     True       NaN                     99.0   \n",
       "1   44.0    Male     Russia    False  463034.0                     21.0   \n",
       "2  900.0  Female      India     True  402865.0                     31.0   \n",
       "3   46.0    Male        USA     True       NaN                     21.0   \n",
       "4   19.0  Female  Australia     True  221868.0                     45.0   \n",
       "\n",
       "  ProductType    PaymentType     Mode  \n",
       "0    BabyCare           Cash  Offline  \n",
       "1    BabyCare  Bank Transfer   Online  \n",
       "2     Medical            UPI  Offline  \n",
       "3    BabyCare            UPI  Offline  \n",
       "4     Medical  Bank Transfer   Online  "
      ]
     },
     "execution_count": 18,
     "metadata": {},
     "output_type": "execute_result"
    }
   ],
   "source": [
    "df.head()"
   ]
  },
  {
   "cell_type": "code",
   "execution_count": 19,
   "metadata": {},
   "outputs": [
    {
     "data": {
      "text/plain": [
       "Age                        0\n",
       "Gender                     0\n",
       "Country                    0\n",
       "Employed                   3\n",
       "Income                     4\n",
       "ItemsPurchased(monthly)    4\n",
       "ProductType                0\n",
       "PaymentType                0\n",
       "Mode                       0\n",
       "dtype: int64"
      ]
     },
     "execution_count": 19,
     "metadata": {},
     "output_type": "execute_result"
    }
   ],
   "source": [
    "df.isnull().sum()"
   ]
  },
  {
   "cell_type": "code",
   "execution_count": 20,
   "metadata": {},
   "outputs": [],
   "source": [
    "df['Employed'] = df['Employed'].fillna(df['Employed'].mode()[0])\n",
    "df['Income'] = df['Income'].fillna(df['Income'].mean())\n",
    "df['ItemsPurchased(monthly)'] = df['ItemsPurchased(monthly)'].fillna(df['ItemsPurchased(monthly)'].mean())"
   ]
  },
  {
   "cell_type": "code",
   "execution_count": 22,
   "metadata": {},
   "outputs": [
    {
     "data": {
      "text/html": [
       "<div>\n",
       "<style scoped>\n",
       "    .dataframe tbody tr th:only-of-type {\n",
       "        vertical-align: middle;\n",
       "    }\n",
       "\n",
       "    .dataframe tbody tr th {\n",
       "        vertical-align: top;\n",
       "    }\n",
       "\n",
       "    .dataframe thead th {\n",
       "        text-align: right;\n",
       "    }\n",
       "</style>\n",
       "<table border=\"1\" class=\"dataframe\">\n",
       "  <thead>\n",
       "    <tr style=\"text-align: right;\">\n",
       "      <th></th>\n",
       "      <th>Age</th>\n",
       "      <th>Gender</th>\n",
       "      <th>Country</th>\n",
       "      <th>Employed</th>\n",
       "      <th>Income</th>\n",
       "      <th>ItemsPurchased(monthly)</th>\n",
       "      <th>ProductType</th>\n",
       "      <th>PaymentType</th>\n",
       "      <th>Mode</th>\n",
       "    </tr>\n",
       "  </thead>\n",
       "  <tbody>\n",
       "    <tr>\n",
       "      <th>0</th>\n",
       "      <td>37.0</td>\n",
       "      <td>Male</td>\n",
       "      <td>USA</td>\n",
       "      <td>True</td>\n",
       "      <td>242613.630435</td>\n",
       "      <td>99.0</td>\n",
       "      <td>BabyCare</td>\n",
       "      <td>Cash</td>\n",
       "      <td>Offline</td>\n",
       "    </tr>\n",
       "    <tr>\n",
       "      <th>1</th>\n",
       "      <td>44.0</td>\n",
       "      <td>Male</td>\n",
       "      <td>Russia</td>\n",
       "      <td>False</td>\n",
       "      <td>463034.000000</td>\n",
       "      <td>21.0</td>\n",
       "      <td>BabyCare</td>\n",
       "      <td>Bank Transfer</td>\n",
       "      <td>Online</td>\n",
       "    </tr>\n",
       "    <tr>\n",
       "      <th>2</th>\n",
       "      <td>900.0</td>\n",
       "      <td>Female</td>\n",
       "      <td>India</td>\n",
       "      <td>True</td>\n",
       "      <td>402865.000000</td>\n",
       "      <td>31.0</td>\n",
       "      <td>Medical</td>\n",
       "      <td>UPI</td>\n",
       "      <td>Offline</td>\n",
       "    </tr>\n",
       "    <tr>\n",
       "      <th>3</th>\n",
       "      <td>46.0</td>\n",
       "      <td>Male</td>\n",
       "      <td>USA</td>\n",
       "      <td>True</td>\n",
       "      <td>242613.630435</td>\n",
       "      <td>21.0</td>\n",
       "      <td>BabyCare</td>\n",
       "      <td>UPI</td>\n",
       "      <td>Offline</td>\n",
       "    </tr>\n",
       "    <tr>\n",
       "      <th>4</th>\n",
       "      <td>19.0</td>\n",
       "      <td>Female</td>\n",
       "      <td>Australia</td>\n",
       "      <td>True</td>\n",
       "      <td>221868.000000</td>\n",
       "      <td>45.0</td>\n",
       "      <td>Medical</td>\n",
       "      <td>Bank Transfer</td>\n",
       "      <td>Online</td>\n",
       "    </tr>\n",
       "  </tbody>\n",
       "</table>\n",
       "</div>"
      ],
      "text/plain": [
       "     Age  Gender    Country  Employed         Income  ItemsPurchased(monthly)  \\\n",
       "0   37.0    Male        USA      True  242613.630435                     99.0   \n",
       "1   44.0    Male     Russia     False  463034.000000                     21.0   \n",
       "2  900.0  Female      India      True  402865.000000                     31.0   \n",
       "3   46.0    Male        USA      True  242613.630435                     21.0   \n",
       "4   19.0  Female  Australia      True  221868.000000                     45.0   \n",
       "\n",
       "  ProductType    PaymentType     Mode  \n",
       "0    BabyCare           Cash  Offline  \n",
       "1    BabyCare  Bank Transfer   Online  \n",
       "2     Medical            UPI  Offline  \n",
       "3    BabyCare            UPI  Offline  \n",
       "4     Medical  Bank Transfer   Online  "
      ]
     },
     "execution_count": 22,
     "metadata": {},
     "output_type": "execute_result"
    }
   ],
   "source": [
    "df.head()"
   ]
  },
  {
   "cell_type": "code",
   "execution_count": 25,
   "metadata": {},
   "outputs": [],
   "source": [
    "df[['Gender','Country','Employed','ProductType','PaymentType','Mode']] = df[['Gender','Country','Employed','ProductType','PaymentType','Mode']].apply(LabelEncoder().fit_transform) "
   ]
  },
  {
   "cell_type": "code",
   "execution_count": 26,
   "metadata": {},
   "outputs": [
    {
     "data": {
      "text/html": [
       "<div>\n",
       "<style scoped>\n",
       "    .dataframe tbody tr th:only-of-type {\n",
       "        vertical-align: middle;\n",
       "    }\n",
       "\n",
       "    .dataframe tbody tr th {\n",
       "        vertical-align: top;\n",
       "    }\n",
       "\n",
       "    .dataframe thead th {\n",
       "        text-align: right;\n",
       "    }\n",
       "</style>\n",
       "<table border=\"1\" class=\"dataframe\">\n",
       "  <thead>\n",
       "    <tr style=\"text-align: right;\">\n",
       "      <th></th>\n",
       "      <th>Age</th>\n",
       "      <th>Gender</th>\n",
       "      <th>Country</th>\n",
       "      <th>Employed</th>\n",
       "      <th>Income</th>\n",
       "      <th>ItemsPurchased(monthly)</th>\n",
       "      <th>ProductType</th>\n",
       "      <th>PaymentType</th>\n",
       "      <th>Mode</th>\n",
       "    </tr>\n",
       "  </thead>\n",
       "  <tbody>\n",
       "    <tr>\n",
       "      <th>0</th>\n",
       "      <td>37.0</td>\n",
       "      <td>1</td>\n",
       "      <td>4</td>\n",
       "      <td>1</td>\n",
       "      <td>242613.630435</td>\n",
       "      <td>99.0</td>\n",
       "      <td>1</td>\n",
       "      <td>1</td>\n",
       "      <td>0</td>\n",
       "    </tr>\n",
       "    <tr>\n",
       "      <th>1</th>\n",
       "      <td>44.0</td>\n",
       "      <td>1</td>\n",
       "      <td>1</td>\n",
       "      <td>0</td>\n",
       "      <td>463034.000000</td>\n",
       "      <td>21.0</td>\n",
       "      <td>1</td>\n",
       "      <td>0</td>\n",
       "      <td>1</td>\n",
       "    </tr>\n",
       "    <tr>\n",
       "      <th>2</th>\n",
       "      <td>900.0</td>\n",
       "      <td>0</td>\n",
       "      <td>3</td>\n",
       "      <td>1</td>\n",
       "      <td>402865.000000</td>\n",
       "      <td>31.0</td>\n",
       "      <td>4</td>\n",
       "      <td>2</td>\n",
       "      <td>0</td>\n",
       "    </tr>\n",
       "    <tr>\n",
       "      <th>3</th>\n",
       "      <td>46.0</td>\n",
       "      <td>1</td>\n",
       "      <td>4</td>\n",
       "      <td>1</td>\n",
       "      <td>242613.630435</td>\n",
       "      <td>21.0</td>\n",
       "      <td>1</td>\n",
       "      <td>2</td>\n",
       "      <td>0</td>\n",
       "    </tr>\n",
       "    <tr>\n",
       "      <th>4</th>\n",
       "      <td>19.0</td>\n",
       "      <td>0</td>\n",
       "      <td>2</td>\n",
       "      <td>1</td>\n",
       "      <td>221868.000000</td>\n",
       "      <td>45.0</td>\n",
       "      <td>4</td>\n",
       "      <td>0</td>\n",
       "      <td>1</td>\n",
       "    </tr>\n",
       "  </tbody>\n",
       "</table>\n",
       "</div>"
      ],
      "text/plain": [
       "     Age  Gender  Country  Employed         Income  ItemsPurchased(monthly)  \\\n",
       "0   37.0       1        4         1  242613.630435                     99.0   \n",
       "1   44.0       1        1         0  463034.000000                     21.0   \n",
       "2  900.0       0        3         1  402865.000000                     31.0   \n",
       "3   46.0       1        4         1  242613.630435                     21.0   \n",
       "4   19.0       0        2         1  221868.000000                     45.0   \n",
       "\n",
       "   ProductType  PaymentType  Mode  \n",
       "0            1            1     0  \n",
       "1            1            0     1  \n",
       "2            4            2     0  \n",
       "3            1            2     0  \n",
       "4            4            0     1  "
      ]
     },
     "execution_count": 26,
     "metadata": {},
     "output_type": "execute_result"
    }
   ],
   "source": [
    "df.head()"
   ]
  },
  {
   "cell_type": "code",
   "execution_count": 40,
   "metadata": {},
   "outputs": [
    {
     "data": {
      "text/html": [
       "<div>\n",
       "<style scoped>\n",
       "    .dataframe tbody tr th:only-of-type {\n",
       "        vertical-align: middle;\n",
       "    }\n",
       "\n",
       "    .dataframe tbody tr th {\n",
       "        vertical-align: top;\n",
       "    }\n",
       "\n",
       "    .dataframe thead th {\n",
       "        text-align: right;\n",
       "    }\n",
       "</style>\n",
       "<table border=\"1\" class=\"dataframe\">\n",
       "  <thead>\n",
       "    <tr style=\"text-align: right;\">\n",
       "      <th></th>\n",
       "      <th>Age</th>\n",
       "      <th>Gender</th>\n",
       "      <th>Country</th>\n",
       "      <th>Employed</th>\n",
       "      <th>Income</th>\n",
       "      <th>ItemsPurchased(monthly)</th>\n",
       "      <th>ProductType</th>\n",
       "      <th>PaymentType</th>\n",
       "      <th>Mode</th>\n",
       "    </tr>\n",
       "  </thead>\n",
       "  <tbody>\n",
       "    <tr>\n",
       "      <th>0</th>\n",
       "      <td>37.0</td>\n",
       "      <td>1</td>\n",
       "      <td>4</td>\n",
       "      <td>1</td>\n",
       "      <td>242613.630435</td>\n",
       "      <td>99.0</td>\n",
       "      <td>1</td>\n",
       "      <td>1</td>\n",
       "      <td>0</td>\n",
       "    </tr>\n",
       "    <tr>\n",
       "      <th>1</th>\n",
       "      <td>44.0</td>\n",
       "      <td>1</td>\n",
       "      <td>1</td>\n",
       "      <td>0</td>\n",
       "      <td>463034.000000</td>\n",
       "      <td>21.0</td>\n",
       "      <td>1</td>\n",
       "      <td>0</td>\n",
       "      <td>1</td>\n",
       "    </tr>\n",
       "    <tr>\n",
       "      <th>2</th>\n",
       "      <td>900.0</td>\n",
       "      <td>0</td>\n",
       "      <td>3</td>\n",
       "      <td>1</td>\n",
       "      <td>402865.000000</td>\n",
       "      <td>31.0</td>\n",
       "      <td>4</td>\n",
       "      <td>2</td>\n",
       "      <td>0</td>\n",
       "    </tr>\n",
       "    <tr>\n",
       "      <th>3</th>\n",
       "      <td>46.0</td>\n",
       "      <td>1</td>\n",
       "      <td>4</td>\n",
       "      <td>1</td>\n",
       "      <td>242613.630435</td>\n",
       "      <td>21.0</td>\n",
       "      <td>1</td>\n",
       "      <td>2</td>\n",
       "      <td>0</td>\n",
       "    </tr>\n",
       "    <tr>\n",
       "      <th>4</th>\n",
       "      <td>19.0</td>\n",
       "      <td>0</td>\n",
       "      <td>2</td>\n",
       "      <td>1</td>\n",
       "      <td>221868.000000</td>\n",
       "      <td>45.0</td>\n",
       "      <td>4</td>\n",
       "      <td>0</td>\n",
       "      <td>1</td>\n",
       "    </tr>\n",
       "  </tbody>\n",
       "</table>\n",
       "</div>"
      ],
      "text/plain": [
       "     Age  Gender  Country  Employed         Income  ItemsPurchased(monthly)  \\\n",
       "0   37.0       1        4         1  242613.630435                     99.0   \n",
       "1   44.0       1        1         0  463034.000000                     21.0   \n",
       "2  900.0       0        3         1  402865.000000                     31.0   \n",
       "3   46.0       1        4         1  242613.630435                     21.0   \n",
       "4   19.0       0        2         1  221868.000000                     45.0   \n",
       "\n",
       "   ProductType  PaymentType  Mode  \n",
       "0            1            1     0  \n",
       "1            1            0     1  \n",
       "2            4            2     0  \n",
       "3            1            2     0  \n",
       "4            4            0     1  "
      ]
     },
     "execution_count": 40,
     "metadata": {},
     "output_type": "execute_result"
    }
   ],
   "source": [
    "# Decision Tree Classifier\n",
    "from sklearn.model_selection import train_test_split\n",
    "Y = df['Mode']\n",
    "X = df[['Age','PaymentType','Income','ItemsPurchased(monthly)']]\n",
    "X_train,X_test,Y_train,Y_test = train_test_split(X,Y,test_size=0.3)\n",
    "df.head()"
   ]
  },
  {
   "cell_type": "code",
   "execution_count": null,
   "metadata": {},
   "outputs": [],
   "source": []
  },
  {
   "cell_type": "code",
   "execution_count": 39,
   "metadata": {},
   "outputs": [
    {
     "data": {
      "text/html": [
       "<div>\n",
       "<style scoped>\n",
       "    .dataframe tbody tr th:only-of-type {\n",
       "        vertical-align: middle;\n",
       "    }\n",
       "\n",
       "    .dataframe tbody tr th {\n",
       "        vertical-align: top;\n",
       "    }\n",
       "\n",
       "    .dataframe thead th {\n",
       "        text-align: right;\n",
       "    }\n",
       "</style>\n",
       "<table border=\"1\" class=\"dataframe\">\n",
       "  <thead>\n",
       "    <tr style=\"text-align: right;\">\n",
       "      <th></th>\n",
       "      <th>Age</th>\n",
       "      <th>Gender</th>\n",
       "      <th>Country</th>\n",
       "      <th>Employed</th>\n",
       "      <th>Income</th>\n",
       "      <th>ItemsPurchased(monthly)</th>\n",
       "      <th>ProductType</th>\n",
       "      <th>PaymentType</th>\n",
       "      <th>Mode</th>\n",
       "    </tr>\n",
       "  </thead>\n",
       "  <tbody>\n",
       "    <tr>\n",
       "      <th>0</th>\n",
       "      <td>37.0</td>\n",
       "      <td>1</td>\n",
       "      <td>4</td>\n",
       "      <td>1</td>\n",
       "      <td>242613.630435</td>\n",
       "      <td>99.0</td>\n",
       "      <td>1</td>\n",
       "      <td>1</td>\n",
       "      <td>0</td>\n",
       "    </tr>\n",
       "    <tr>\n",
       "      <th>1</th>\n",
       "      <td>44.0</td>\n",
       "      <td>1</td>\n",
       "      <td>1</td>\n",
       "      <td>0</td>\n",
       "      <td>463034.000000</td>\n",
       "      <td>21.0</td>\n",
       "      <td>1</td>\n",
       "      <td>0</td>\n",
       "      <td>1</td>\n",
       "    </tr>\n",
       "    <tr>\n",
       "      <th>2</th>\n",
       "      <td>900.0</td>\n",
       "      <td>0</td>\n",
       "      <td>3</td>\n",
       "      <td>1</td>\n",
       "      <td>402865.000000</td>\n",
       "      <td>31.0</td>\n",
       "      <td>4</td>\n",
       "      <td>2</td>\n",
       "      <td>0</td>\n",
       "    </tr>\n",
       "    <tr>\n",
       "      <th>3</th>\n",
       "      <td>46.0</td>\n",
       "      <td>1</td>\n",
       "      <td>4</td>\n",
       "      <td>1</td>\n",
       "      <td>242613.630435</td>\n",
       "      <td>21.0</td>\n",
       "      <td>1</td>\n",
       "      <td>2</td>\n",
       "      <td>0</td>\n",
       "    </tr>\n",
       "    <tr>\n",
       "      <th>4</th>\n",
       "      <td>19.0</td>\n",
       "      <td>0</td>\n",
       "      <td>2</td>\n",
       "      <td>1</td>\n",
       "      <td>221868.000000</td>\n",
       "      <td>45.0</td>\n",
       "      <td>4</td>\n",
       "      <td>0</td>\n",
       "      <td>1</td>\n",
       "    </tr>\n",
       "  </tbody>\n",
       "</table>\n",
       "</div>"
      ],
      "text/plain": [
       "     Age  Gender  Country  Employed         Income  ItemsPurchased(monthly)  \\\n",
       "0   37.0       1        4         1  242613.630435                     99.0   \n",
       "1   44.0       1        1         0  463034.000000                     21.0   \n",
       "2  900.0       0        3         1  402865.000000                     31.0   \n",
       "3   46.0       1        4         1  242613.630435                     21.0   \n",
       "4   19.0       0        2         1  221868.000000                     45.0   \n",
       "\n",
       "   ProductType  PaymentType  Mode  \n",
       "0            1            1     0  \n",
       "1            1            0     1  \n",
       "2            4            2     0  \n",
       "3            1            2     0  \n",
       "4            4            0     1  "
      ]
     },
     "execution_count": 39,
     "metadata": {},
     "output_type": "execute_result"
    }
   ],
   "source": [
    "df.head()"
   ]
  },
  {
   "cell_type": "code",
   "execution_count": 30,
   "metadata": {},
   "outputs": [
    {
     "data": {
      "text/plain": [
       "(35, 8)"
      ]
     },
     "execution_count": 30,
     "metadata": {},
     "output_type": "execute_result"
    }
   ],
   "source": [
    "X_train.shape"
   ]
  },
  {
   "cell_type": "code",
   "execution_count": 31,
   "metadata": {},
   "outputs": [
    {
     "data": {
      "text/plain": [
       "(15, 8)"
      ]
     },
     "execution_count": 31,
     "metadata": {},
     "output_type": "execute_result"
    }
   ],
   "source": [
    "X_test.shape"
   ]
  },
  {
   "cell_type": "code",
   "execution_count": 41,
   "metadata": {},
   "outputs": [],
   "source": [
    "clf1 = DecisionTreeClassifier()\n",
    "clf1.fit(X_train,Y_train)\n",
    "X_test_pred = clf1.predict(X_test)"
   ]
  },
  {
   "cell_type": "code",
   "execution_count": 42,
   "metadata": {},
   "outputs": [],
   "source": [
    "X_test_pred_proba = clf1.predict_proba(X_test)"
   ]
  },
  {
   "cell_type": "code",
   "execution_count": 43,
   "metadata": {},
   "outputs": [],
   "source": [
    "# metrics\n",
    "from sklearn.metrics import classification_report,confusion_matrix"
   ]
  },
  {
   "cell_type": "code",
   "execution_count": 44,
   "metadata": {},
   "outputs": [
    {
     "name": "stdout",
     "output_type": "stream",
     "text": [
      "              precision    recall  f1-score   support\n",
      "\n",
      "           0       0.25      0.40      0.31         5\n",
      "           1       0.57      0.40      0.47        10\n",
      "\n",
      "    accuracy                           0.40        15\n",
      "   macro avg       0.41      0.40      0.39        15\n",
      "weighted avg       0.46      0.40      0.42        15\n",
      "\n"
     ]
    }
   ],
   "source": [
    "print(classification_report(Y_test,X_test_pred))"
   ]
  },
  {
   "cell_type": "code",
   "execution_count": 45,
   "metadata": {},
   "outputs": [
    {
     "name": "stdout",
     "output_type": "stream",
     "text": [
      "[[2 3]\n",
      " [6 4]]\n"
     ]
    }
   ],
   "source": [
    "print(confusion_matrix(Y_test,X_test_pred))"
   ]
  },
  {
   "cell_type": "code",
   "execution_count": 60,
   "metadata": {},
   "outputs": [],
   "source": [
    "cf2 = GaussianNB()\n",
    "cf2.fit(X_train,Y_train)\n",
    "x_test_pred = cf2.predict(X_test)\n",
    "x_test_pred_proba = cf2.predict_proba(X_test)"
   ]
  },
  {
   "cell_type": "code",
   "execution_count": 58,
   "metadata": {},
   "outputs": [
    {
     "name": "stdout",
     "output_type": "stream",
     "text": [
      "              precision    recall  f1-score   support\n",
      "\n",
      "           0       0.50      0.40      0.44         5\n",
      "           1       0.73      0.80      0.76        10\n",
      "\n",
      "    accuracy                           0.67        15\n",
      "   macro avg       0.61      0.60      0.60        15\n",
      "weighted avg       0.65      0.67      0.66        15\n",
      "\n"
     ]
    }
   ],
   "source": [
    "print(classification_report(Y_test,x_test_pred))"
   ]
  },
  {
   "cell_type": "code",
   "execution_count": 59,
   "metadata": {},
   "outputs": [
    {
     "name": "stdout",
     "output_type": "stream",
     "text": [
      "[[2 3]\n",
      " [2 8]]\n"
     ]
    }
   ],
   "source": [
    "print(confusion_matrix(Y_test,x_test_pred,labels=[0, 1]))"
   ]
  },
  {
   "cell_type": "code",
   "execution_count": 67,
   "metadata": {},
   "outputs": [],
   "source": [
    "auc_score_1 = metrics.roc_auc_score(Y_test,X_test_pred_proba[:,1])\n",
    "auc_score_2 = metrics.roc_auc_score(Y_test,x_test_pred_proba[:,1])"
   ]
  },
  {
   "cell_type": "code",
   "execution_count": 68,
   "metadata": {},
   "outputs": [
    {
     "data": {
      "text/plain": [
       "0.39999999999999997"
      ]
     },
     "execution_count": 68,
     "metadata": {},
     "output_type": "execute_result"
    }
   ],
   "source": [
    "auc_score_1"
   ]
  }
 ],
 "metadata": {
  "kernelspec": {
   "display_name": "Python 3",
   "language": "python",
   "name": "python3"
  },
  "language_info": {
   "codemirror_mode": {
    "name": "ipython",
    "version": 3
   },
   "file_extension": ".py",
   "mimetype": "text/x-python",
   "name": "python",
   "nbconvert_exporter": "python",
   "pygments_lexer": "ipython3",
   "version": "3.8.5"
  }
 },
 "nbformat": 4,
 "nbformat_minor": 4
}
