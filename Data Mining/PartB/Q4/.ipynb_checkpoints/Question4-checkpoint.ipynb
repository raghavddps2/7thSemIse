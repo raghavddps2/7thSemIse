{
 "cells": [
  {
   "cell_type": "code",
   "execution_count": 3,
   "metadata": {},
   "outputs": [
    {
     "name": "stdout",
     "output_type": "stream",
     "text": [
      "Defaulting to user installation because normal site-packages is not writeable\n",
      "Collecting pyfpgrowth\n",
      "  Downloading pyfpgrowth-1.0.tar.gz (1.6 MB)\n",
      "\u001b[K     |████████████████████████████████| 1.6 MB 996 kB/s eta 0:00:01\n",
      "\u001b[?25hBuilding wheels for collected packages: pyfpgrowth\n",
      "  Building wheel for pyfpgrowth (setup.py) ... \u001b[?25ldone\n",
      "\u001b[?25h  Created wheel for pyfpgrowth: filename=pyfpgrowth-1.0-py2.py3-none-any.whl size=5477 sha256=117d9ba5c60e288c9eceebd793464f9775c704abad42804ef2291da73c99365f\n",
      "  Stored in directory: /home/learner/.cache/pip/wheels/29/e2/a7/ccb34c35e2c6737d3f09b53784f4323b7ff556a5f02096c70d\n",
      "Successfully built pyfpgrowth\n",
      "Installing collected packages: pyfpgrowth\n",
      "Successfully installed pyfpgrowth-1.0\n"
     ]
    }
   ],
   "source": [
    "!pip install pyfpgrowth\n",
    "import pandas as pd\n",
    "import matplotlib.pyplot as plt\n",
    "import seaborn as sns\n",
    "import numpy as np\n",
    "from sklearn import preprocessing\n",
    "import pyfpgrowth"
   ]
  },
  {
   "cell_type": "code",
   "execution_count": 4,
   "metadata": {},
   "outputs": [
    {
     "data": {
      "text/html": [
       "<div>\n",
       "<style scoped>\n",
       "    .dataframe tbody tr th:only-of-type {\n",
       "        vertical-align: middle;\n",
       "    }\n",
       "\n",
       "    .dataframe tbody tr th {\n",
       "        vertical-align: top;\n",
       "    }\n",
       "\n",
       "    .dataframe thead th {\n",
       "        text-align: right;\n",
       "    }\n",
       "</style>\n",
       "<table border=\"1\" class=\"dataframe\">\n",
       "  <thead>\n",
       "    <tr style=\"text-align: right;\">\n",
       "      <th></th>\n",
       "      <th>tid</th>\n",
       "      <th>onion</th>\n",
       "      <th>tomato</th>\n",
       "      <th>potato</th>\n",
       "      <th>bottleguard</th>\n",
       "      <th>beans</th>\n",
       "    </tr>\n",
       "  </thead>\n",
       "  <tbody>\n",
       "    <tr>\n",
       "      <th>0</th>\n",
       "      <td>1</td>\n",
       "      <td>1</td>\n",
       "      <td>0</td>\n",
       "      <td>1</td>\n",
       "      <td>0</td>\n",
       "      <td>0</td>\n",
       "    </tr>\n",
       "    <tr>\n",
       "      <th>1</th>\n",
       "      <td>2</td>\n",
       "      <td>1</td>\n",
       "      <td>0</td>\n",
       "      <td>0</td>\n",
       "      <td>1</td>\n",
       "      <td>1</td>\n",
       "    </tr>\n",
       "    <tr>\n",
       "      <th>2</th>\n",
       "      <td>3</td>\n",
       "      <td>0</td>\n",
       "      <td>0</td>\n",
       "      <td>1</td>\n",
       "      <td>0</td>\n",
       "      <td>0</td>\n",
       "    </tr>\n",
       "    <tr>\n",
       "      <th>3</th>\n",
       "      <td>4</td>\n",
       "      <td>0</td>\n",
       "      <td>1</td>\n",
       "      <td>1</td>\n",
       "      <td>1</td>\n",
       "      <td>1</td>\n",
       "    </tr>\n",
       "    <tr>\n",
       "      <th>4</th>\n",
       "      <td>5</td>\n",
       "      <td>1</td>\n",
       "      <td>1</td>\n",
       "      <td>1</td>\n",
       "      <td>0</td>\n",
       "      <td>0</td>\n",
       "    </tr>\n",
       "  </tbody>\n",
       "</table>\n",
       "</div>"
      ],
      "text/plain": [
       "   tid  onion  tomato  potato  bottleguard  beans\n",
       "0    1      1       0       1            0      0\n",
       "1    2      1       0       0            1      1\n",
       "2    3      0       0       1            0      0\n",
       "3    4      0       1       1            1      1\n",
       "4    5      1       1       1            0      0"
      ]
     },
     "execution_count": 4,
     "metadata": {},
     "output_type": "execute_result"
    }
   ],
   "source": [
    "df = pd.read_csv('association_analysis.csv')\n",
    "df.head()"
   ]
  },
  {
   "cell_type": "code",
   "execution_count": 5,
   "metadata": {},
   "outputs": [],
   "source": [
    "df.drop(['tid'],inplace=True,axis=1)"
   ]
  },
  {
   "cell_type": "code",
   "execution_count": 7,
   "metadata": {},
   "outputs": [
    {
     "data": {
      "text/html": [
       "<div>\n",
       "<style scoped>\n",
       "    .dataframe tbody tr th:only-of-type {\n",
       "        vertical-align: middle;\n",
       "    }\n",
       "\n",
       "    .dataframe tbody tr th {\n",
       "        vertical-align: top;\n",
       "    }\n",
       "\n",
       "    .dataframe thead th {\n",
       "        text-align: right;\n",
       "    }\n",
       "</style>\n",
       "<table border=\"1\" class=\"dataframe\">\n",
       "  <thead>\n",
       "    <tr style=\"text-align: right;\">\n",
       "      <th></th>\n",
       "      <th>onion</th>\n",
       "      <th>tomato</th>\n",
       "      <th>potato</th>\n",
       "      <th>bottleguard</th>\n",
       "      <th>beans</th>\n",
       "    </tr>\n",
       "  </thead>\n",
       "  <tbody>\n",
       "    <tr>\n",
       "      <th>0</th>\n",
       "      <td>1</td>\n",
       "      <td>0</td>\n",
       "      <td>1</td>\n",
       "      <td>0</td>\n",
       "      <td>0</td>\n",
       "    </tr>\n",
       "    <tr>\n",
       "      <th>1</th>\n",
       "      <td>1</td>\n",
       "      <td>0</td>\n",
       "      <td>0</td>\n",
       "      <td>1</td>\n",
       "      <td>1</td>\n",
       "    </tr>\n",
       "    <tr>\n",
       "      <th>2</th>\n",
       "      <td>0</td>\n",
       "      <td>0</td>\n",
       "      <td>1</td>\n",
       "      <td>0</td>\n",
       "      <td>0</td>\n",
       "    </tr>\n",
       "    <tr>\n",
       "      <th>3</th>\n",
       "      <td>0</td>\n",
       "      <td>1</td>\n",
       "      <td>1</td>\n",
       "      <td>1</td>\n",
       "      <td>1</td>\n",
       "    </tr>\n",
       "    <tr>\n",
       "      <th>4</th>\n",
       "      <td>1</td>\n",
       "      <td>1</td>\n",
       "      <td>1</td>\n",
       "      <td>0</td>\n",
       "      <td>0</td>\n",
       "    </tr>\n",
       "  </tbody>\n",
       "</table>\n",
       "</div>"
      ],
      "text/plain": [
       "   onion  tomato  potato  bottleguard  beans\n",
       "0      1       0       1            0      0\n",
       "1      1       0       0            1      1\n",
       "2      0       0       1            0      0\n",
       "3      0       1       1            1      1\n",
       "4      1       1       1            0      0"
      ]
     },
     "execution_count": 7,
     "metadata": {},
     "output_type": "execute_result"
    }
   ],
   "source": [
    "df.head()"
   ]
  },
  {
   "cell_type": "code",
   "execution_count": 8,
   "metadata": {},
   "outputs": [],
   "source": [
    "records = []\n",
    "for i in range(len(df)):\n",
    "    record = []\n",
    "    for j in range(len(df.columns)):\n",
    "        if df.values[i,j]:\n",
    "            record.append(df.columns[j])\n",
    "    records.append(record)"
   ]
  },
  {
   "cell_type": "code",
   "execution_count": 9,
   "metadata": {},
   "outputs": [
    {
     "name": "stdout",
     "output_type": "stream",
     "text": [
      "[['onion', 'potato'], ['onion', 'bottleguard', 'beans'], ['potato'], ['tomato', 'potato', 'bottleguard', 'beans'], ['onion', 'tomato', 'potato'], ['tomato', 'bottleguard', 'beans'], ['tomato'], ['onion', 'potato'], ['tomato', 'potato', 'beans'], ['tomato'], ['onion', 'tomato'], ['onion', 'tomato'], ['onion', 'beans'], ['tomato', 'bottleguard', 'beans'], ['onion', 'potato', 'bottleguard'], ['tomato', 'bottleguard', 'beans'], ['bottleguard'], ['tomato', 'bottleguard', 'beans'], ['onion', 'beans'], ['onion', 'tomato', 'beans'], ['onion', 'tomato', 'potato', 'bottleguard'], ['onion', 'tomato', 'potato', 'beans'], ['potato', 'bottleguard'], ['onion'], ['onion', 'tomato', 'potato', 'bottleguard', 'beans'], ['onion', 'tomato'], ['tomato', 'potato', 'bottleguard', 'beans'], ['onion', 'bottleguard'], ['onion', 'potato', 'bottleguard', 'beans'], ['tomato', 'beans'], ['onion', 'tomato', 'potato', 'bottleguard', 'beans'], ['potato'], ['tomato', 'potato'], ['potato', 'beans'], ['potato', 'bottleguard'], ['onion', 'tomato', 'potato'], ['onion', 'tomato', 'potato', 'bottleguard'], ['beans'], ['onion', 'potato', 'beans'], ['onion', 'bottleguard', 'beans'], ['onion', 'tomato', 'beans'], ['tomato', 'potato'], ['potato'], ['beans'], ['bottleguard'], ['tomato', 'bottleguard', 'beans'], ['onion', 'tomato', 'potato', 'beans'], ['bottleguard'], ['tomato', 'potato', 'bottleguard'], ['onion', 'tomato', 'bottleguard'], ['onion', 'tomato', 'potato', 'bottleguard', 'beans']]\n"
     ]
    }
   ],
   "source": [
    "print(records)"
   ]
  },
  {
   "cell_type": "code",
   "execution_count": 10,
   "metadata": {},
   "outputs": [],
   "source": [
    "min_sup = 0.3\n",
    "min_confidence = 0.7"
   ]
  },
  {
   "cell_type": "code",
   "execution_count": 13,
   "metadata": {},
   "outputs": [],
   "source": [
    "itemsets = pyfpgrowth.find_frequent_patterns(records,min_sup)"
   ]
  },
  {
   "cell_type": "code",
   "execution_count": 14,
   "metadata": {},
   "outputs": [
    {
     "name": "stdout",
     "output_type": "stream",
     "text": [
      "{('beans', 'bottleguard', 'onion'): 6, ('beans', 'bottleguard', 'onion', 'potato'): 4, ('bottleguard', 'onion', 'tomato'): 6, ('bottleguard', 'onion', 'potato', 'tomato'): 5, ('beans', 'bottleguard', 'onion', 'tomato'): 3, ('beans', 'bottleguard', 'onion', 'potato', 'tomato'): 3, ('bottleguard', 'onion', 'potato'): 7, ('beans', 'bottleguard', 'potato'): 6, ('beans', 'bottleguard', 'potato', 'tomato'): 5, ('bottleguard', 'potato', 'tomato'): 8, ('beans', 'bottleguard'): 13, ('beans', 'bottleguard', 'tomato'): 10, ('bottleguard', 'tomato'): 14, ('beans', 'onion', 'potato'): 7, ('beans', 'onion', 'potato', 'tomato'): 5, ('beans', 'potato', 'tomato'): 8, ('beans', 'onion'): 13, ('beans', 'onion', 'tomato'): 7, ('beans', 'tomato'): 16, ('onion',): 26, ('onion', 'tomato'): 15, ('onion', 'potato'): 14, ('onion', 'potato', 'tomato'): 9, ('potato', 'tomato'): 15, ('tomato',): 29}\n"
     ]
    }
   ],
   "source": [
    "print(itemsets)"
   ]
  },
  {
   "cell_type": "code",
   "execution_count": 15,
   "metadata": {},
   "outputs": [],
   "source": [
    "association_rules = pyfpgrowth.generate_association_rules(itemsets,min_confidence)"
   ]
  },
  {
   "cell_type": "code",
   "execution_count": 16,
   "metadata": {},
   "outputs": [
    {
     "name": "stdout",
     "output_type": "stream",
     "text": [
      "{('bottleguard', 'onion', 'potato'): (('tomato',), 0.7142857142857143), ('bottleguard', 'onion', 'tomato'): (('potato',), 0.8333333333333334), ('beans', 'bottleguard', 'onion', 'potato'): (('tomato',), 0.75), ('beans', 'bottleguard', 'onion', 'tomato'): (('potato',), 1.0), ('beans', 'bottleguard', 'potato'): (('tomato',), 0.8333333333333334), ('beans', 'bottleguard'): (('tomato',), 0.7692307692307693), ('bottleguard', 'tomato'): (('beans',), 0.7142857142857143), ('beans', 'onion', 'potato'): (('tomato',), 0.7142857142857143), ('beans', 'onion', 'tomato'): (('potato',), 0.7142857142857143)}\n"
     ]
    }
   ],
   "source": [
    "print(association_rules)"
   ]
  },
  {
   "cell_type": "code",
   "execution_count": 18,
   "metadata": {},
   "outputs": [
    {
     "name": "stdout",
     "output_type": "stream",
     "text": [
      "('bottleguard', 'onion', 'potato') ---> ('tomato',)\n",
      "('bottleguard', 'onion', 'tomato') ---> ('potato',)\n",
      "('beans', 'bottleguard', 'onion', 'potato') ---> ('tomato',)\n",
      "('beans', 'bottleguard', 'onion', 'tomato') ---> ('potato',)\n",
      "('beans', 'bottleguard', 'potato') ---> ('tomato',)\n",
      "('beans', 'bottleguard') ---> ('tomato',)\n",
      "('bottleguard', 'tomato') ---> ('beans',)\n",
      "('beans', 'onion', 'potato') ---> ('tomato',)\n",
      "('beans', 'onion', 'tomato') ---> ('potato',)\n"
     ]
    }
   ],
   "source": [
    "for i,j in association_rules.items():\n",
    "    print(i,\"--->\",j[0])"
   ]
  }
 ],
 "metadata": {
  "kernelspec": {
   "display_name": "Python 3",
   "language": "python",
   "name": "python3"
  },
  "language_info": {
   "codemirror_mode": {
    "name": "ipython",
    "version": 3
   },
   "file_extension": ".py",
   "mimetype": "text/x-python",
   "name": "python",
   "nbconvert_exporter": "python",
   "pygments_lexer": "ipython3",
   "version": "3.8.5"
  }
 },
 "nbformat": 4,
 "nbformat_minor": 4
}
