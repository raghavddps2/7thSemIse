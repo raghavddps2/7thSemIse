{
 "cells": [
  {
   "cell_type": "code",
   "execution_count": 1,
   "metadata": {},
   "outputs": [],
   "source": [
    "import pandas as pd\n",
    "from sklearn import preprocessing\n",
    "import numpy as np\n",
    "import matplotlib.pyplot as plt\n",
    "import seaborn as sns\n",
    "from sklearn.model_selection import train_test_split"
   ]
  },
  {
   "cell_type": "code",
   "execution_count": 2,
   "metadata": {},
   "outputs": [
    {
     "data": {
      "text/html": [
       "<div>\n",
       "<style scoped>\n",
       "    .dataframe tbody tr th:only-of-type {\n",
       "        vertical-align: middle;\n",
       "    }\n",
       "\n",
       "    .dataframe tbody tr th {\n",
       "        vertical-align: top;\n",
       "    }\n",
       "\n",
       "    .dataframe thead th {\n",
       "        text-align: right;\n",
       "    }\n",
       "</style>\n",
       "<table border=\"1\" class=\"dataframe\">\n",
       "  <thead>\n",
       "    <tr style=\"text-align: right;\">\n",
       "      <th></th>\n",
       "      <th>customer_id</th>\n",
       "      <th>name</th>\n",
       "      <th>gender</th>\n",
       "      <th>age</th>\n",
       "      <th>annual income (lakhs)</th>\n",
       "      <th>spending score</th>\n",
       "      <th>items purchased (monthly)</th>\n",
       "      <th>country</th>\n",
       "      <th>category</th>\n",
       "      <th>purchase type</th>\n",
       "    </tr>\n",
       "  </thead>\n",
       "  <tbody>\n",
       "    <tr>\n",
       "      <th>0</th>\n",
       "      <td>1</td>\n",
       "      <td>Edith</td>\n",
       "      <td>Female</td>\n",
       "      <td>NaN</td>\n",
       "      <td>40.9</td>\n",
       "      <td>27</td>\n",
       "      <td>62</td>\n",
       "      <td>Iran</td>\n",
       "      <td>Baby</td>\n",
       "      <td>offline</td>\n",
       "    </tr>\n",
       "    <tr>\n",
       "      <th>1</th>\n",
       "      <td>2</td>\n",
       "      <td>Sinclair</td>\n",
       "      <td>Male</td>\n",
       "      <td>53.0</td>\n",
       "      <td>NaN</td>\n",
       "      <td>42</td>\n",
       "      <td>47</td>\n",
       "      <td>China</td>\n",
       "      <td>NaN</td>\n",
       "      <td>online</td>\n",
       "    </tr>\n",
       "    <tr>\n",
       "      <th>2</th>\n",
       "      <td>3</td>\n",
       "      <td>Enoch</td>\n",
       "      <td>Male</td>\n",
       "      <td>22.0</td>\n",
       "      <td>NaN</td>\n",
       "      <td>70</td>\n",
       "      <td>26</td>\n",
       "      <td>China</td>\n",
       "      <td>Computers</td>\n",
       "      <td>offline</td>\n",
       "    </tr>\n",
       "    <tr>\n",
       "      <th>3</th>\n",
       "      <td>4</td>\n",
       "      <td>Lorenzo</td>\n",
       "      <td>Male</td>\n",
       "      <td>9.0</td>\n",
       "      <td>18.5</td>\n",
       "      <td>68</td>\n",
       "      <td>80</td>\n",
       "      <td>Russia</td>\n",
       "      <td>NaN</td>\n",
       "      <td>online</td>\n",
       "    </tr>\n",
       "    <tr>\n",
       "      <th>4</th>\n",
       "      <td>5</td>\n",
       "      <td>Damian</td>\n",
       "      <td>Male</td>\n",
       "      <td>55.0</td>\n",
       "      <td>18.4</td>\n",
       "      <td>69</td>\n",
       "      <td>89</td>\n",
       "      <td>Philippines</td>\n",
       "      <td>Jewelery</td>\n",
       "      <td>offline</td>\n",
       "    </tr>\n",
       "  </tbody>\n",
       "</table>\n",
       "</div>"
      ],
      "text/plain": [
       "   customer_id      name  gender   age  annual income (lakhs)  spending score  \\\n",
       "0            1     Edith  Female   NaN                   40.9              27   \n",
       "1            2  Sinclair    Male  53.0                    NaN              42   \n",
       "2            3     Enoch    Male  22.0                    NaN              70   \n",
       "3            4   Lorenzo    Male   9.0                   18.5              68   \n",
       "4            5    Damian    Male  55.0                   18.4              69   \n",
       "\n",
       "   items purchased (monthly)      country   category purchase type   \n",
       "0                         62         Iran       Baby        offline  \n",
       "1                         47        China        NaN         online  \n",
       "2                         26        China  Computers        offline  \n",
       "3                         80       Russia        NaN         online  \n",
       "4                         89  Philippines   Jewelery        offline  "
      ]
     },
     "execution_count": 2,
     "metadata": {},
     "output_type": "execute_result"
    }
   ],
   "source": [
    "\n",
    "df = pd.read_csv(\"CustomerData.csv\")\n",
    "df.head()"
   ]
  },
  {
   "cell_type": "code",
   "execution_count": 3,
   "metadata": {},
   "outputs": [
    {
     "name": "stdout",
     "output_type": "stream",
     "text": [
      "customer_id                   0\n",
      "name                          0\n",
      "gender                       10\n",
      "age                           5\n",
      "annual income (lakhs)         8\n",
      "spending score                0\n",
      "items purchased (monthly)     0\n",
      "country                       0\n",
      "category                     13\n",
      "purchase type                 0\n",
      "dtype: int64\n",
      "customer_id                  0\n",
      "name                         0\n",
      "gender                       0\n",
      "age                          0\n",
      "annual income (lakhs)        0\n",
      "spending score               0\n",
      "items purchased (monthly)    0\n",
      "country                      0\n",
      "category                     0\n",
      "purchase type                0\n",
      "dtype: int64\n"
     ]
    }
   ],
   "source": [
    "\n",
    "# Data Processing\n",
    "print(df.isnull().sum())\n",
    "df.gender.fillna(df.gender.mode()[0], inplace=True)\n",
    "df.category.fillna(df.category.mode()[0], inplace=True)\n",
    "df.age.fillna(int(df.age.mean()), inplace=True)\n",
    "df[\"annual income (lakhs)\"].fillna(df[\"annual income (lakhs)\"].mean(),\n",
    "                                   inplace=True)\n",
    "print(df.isnull().sum())"
   ]
  },
  {
   "cell_type": "code",
   "execution_count": 4,
   "metadata": {},
   "outputs": [],
   "source": [
    "encoder = preprocessing.LabelEncoder()\n",
    "df[[\"category\",\"purchase type \",\"gender\"]] = df[[\"category\",\"purchase type \",\"gender\"]].apply(encoder.fit_transform)"
   ]
  },
  {
   "cell_type": "code",
   "execution_count": 6,
   "metadata": {},
   "outputs": [
    {
     "data": {
      "text/html": [
       "<div>\n",
       "<style scoped>\n",
       "    .dataframe tbody tr th:only-of-type {\n",
       "        vertical-align: middle;\n",
       "    }\n",
       "\n",
       "    .dataframe tbody tr th {\n",
       "        vertical-align: top;\n",
       "    }\n",
       "\n",
       "    .dataframe thead th {\n",
       "        text-align: right;\n",
       "    }\n",
       "</style>\n",
       "<table border=\"1\" class=\"dataframe\">\n",
       "  <thead>\n",
       "    <tr style=\"text-align: right;\">\n",
       "      <th></th>\n",
       "      <th>customer_id</th>\n",
       "      <th>name</th>\n",
       "      <th>gender</th>\n",
       "      <th>age</th>\n",
       "      <th>annual income (lakhs)</th>\n",
       "      <th>spending score</th>\n",
       "      <th>items purchased (monthly)</th>\n",
       "      <th>country</th>\n",
       "      <th>category</th>\n",
       "      <th>purchase type</th>\n",
       "    </tr>\n",
       "  </thead>\n",
       "  <tbody>\n",
       "    <tr>\n",
       "      <th>0</th>\n",
       "      <td>1</td>\n",
       "      <td>Edith</td>\n",
       "      <td>0</td>\n",
       "      <td>29.0</td>\n",
       "      <td>40.900000</td>\n",
       "      <td>27</td>\n",
       "      <td>62</td>\n",
       "      <td>Iran</td>\n",
       "      <td>1</td>\n",
       "      <td>0</td>\n",
       "    </tr>\n",
       "    <tr>\n",
       "      <th>1</th>\n",
       "      <td>2</td>\n",
       "      <td>Sinclair</td>\n",
       "      <td>1</td>\n",
       "      <td>53.0</td>\n",
       "      <td>35.578846</td>\n",
       "      <td>42</td>\n",
       "      <td>47</td>\n",
       "      <td>China</td>\n",
       "      <td>2</td>\n",
       "      <td>1</td>\n",
       "    </tr>\n",
       "    <tr>\n",
       "      <th>2</th>\n",
       "      <td>3</td>\n",
       "      <td>Enoch</td>\n",
       "      <td>1</td>\n",
       "      <td>22.0</td>\n",
       "      <td>35.578846</td>\n",
       "      <td>70</td>\n",
       "      <td>26</td>\n",
       "      <td>China</td>\n",
       "      <td>5</td>\n",
       "      <td>0</td>\n",
       "    </tr>\n",
       "    <tr>\n",
       "      <th>3</th>\n",
       "      <td>4</td>\n",
       "      <td>Lorenzo</td>\n",
       "      <td>1</td>\n",
       "      <td>9.0</td>\n",
       "      <td>18.500000</td>\n",
       "      <td>68</td>\n",
       "      <td>80</td>\n",
       "      <td>Russia</td>\n",
       "      <td>2</td>\n",
       "      <td>1</td>\n",
       "    </tr>\n",
       "    <tr>\n",
       "      <th>4</th>\n",
       "      <td>5</td>\n",
       "      <td>Damian</td>\n",
       "      <td>1</td>\n",
       "      <td>55.0</td>\n",
       "      <td>18.400000</td>\n",
       "      <td>69</td>\n",
       "      <td>89</td>\n",
       "      <td>Philippines</td>\n",
       "      <td>12</td>\n",
       "      <td>0</td>\n",
       "    </tr>\n",
       "  </tbody>\n",
       "</table>\n",
       "</div>"
      ],
      "text/plain": [
       "   customer_id      name  gender   age  annual income (lakhs)  spending score  \\\n",
       "0            1     Edith       0  29.0              40.900000              27   \n",
       "1            2  Sinclair       1  53.0              35.578846              42   \n",
       "2            3     Enoch       1  22.0              35.578846              70   \n",
       "3            4   Lorenzo       1   9.0              18.500000              68   \n",
       "4            5    Damian       1  55.0              18.400000              69   \n",
       "\n",
       "   items purchased (monthly)      country  category  purchase type   \n",
       "0                         62         Iran         1               0  \n",
       "1                         47        China         2               1  \n",
       "2                         26        China         5               0  \n",
       "3                         80       Russia         2               1  \n",
       "4                         89  Philippines        12               0  "
      ]
     },
     "execution_count": 6,
     "metadata": {},
     "output_type": "execute_result"
    }
   ],
   "source": [
    "df.head()"
   ]
  },
  {
   "cell_type": "code",
   "execution_count": 7,
   "metadata": {},
   "outputs": [],
   "source": [
    "scaler = preprocessing.MinMaxScaler()\n",
    "df[[\"spending score\", \"items purchased (monthly)\",\n",
    "    \"annual income (lakhs)\"]] = scaler.fit_transform(df[[\"spending score\", \"items purchased (monthly)\",\n",
    "    \"annual income (lakhs)\"]])"
   ]
  },
  {
   "cell_type": "code",
   "execution_count": 9,
   "metadata": {},
   "outputs": [
    {
     "data": {
      "text/html": [
       "<div>\n",
       "<style scoped>\n",
       "    .dataframe tbody tr th:only-of-type {\n",
       "        vertical-align: middle;\n",
       "    }\n",
       "\n",
       "    .dataframe tbody tr th {\n",
       "        vertical-align: top;\n",
       "    }\n",
       "\n",
       "    .dataframe thead th {\n",
       "        text-align: right;\n",
       "    }\n",
       "</style>\n",
       "<table border=\"1\" class=\"dataframe\">\n",
       "  <thead>\n",
       "    <tr style=\"text-align: right;\">\n",
       "      <th></th>\n",
       "      <th>customer_id</th>\n",
       "      <th>name</th>\n",
       "      <th>gender</th>\n",
       "      <th>age</th>\n",
       "      <th>annual income (lakhs)</th>\n",
       "      <th>spending score</th>\n",
       "      <th>items purchased (monthly)</th>\n",
       "      <th>country</th>\n",
       "      <th>category</th>\n",
       "      <th>purchase type</th>\n",
       "    </tr>\n",
       "  </thead>\n",
       "  <tbody>\n",
       "    <tr>\n",
       "      <th>0</th>\n",
       "      <td>1</td>\n",
       "      <td>Edith</td>\n",
       "      <td>0</td>\n",
       "      <td>29.0</td>\n",
       "      <td>0.608607</td>\n",
       "      <td>0.255102</td>\n",
       "      <td>0.616162</td>\n",
       "      <td>Iran</td>\n",
       "      <td>1</td>\n",
       "      <td>0</td>\n",
       "    </tr>\n",
       "    <tr>\n",
       "      <th>1</th>\n",
       "      <td>2</td>\n",
       "      <td>Sinclair</td>\n",
       "      <td>1</td>\n",
       "      <td>53.0</td>\n",
       "      <td>0.499567</td>\n",
       "      <td>0.408163</td>\n",
       "      <td>0.464646</td>\n",
       "      <td>China</td>\n",
       "      <td>2</td>\n",
       "      <td>1</td>\n",
       "    </tr>\n",
       "    <tr>\n",
       "      <th>2</th>\n",
       "      <td>3</td>\n",
       "      <td>Enoch</td>\n",
       "      <td>1</td>\n",
       "      <td>22.0</td>\n",
       "      <td>0.499567</td>\n",
       "      <td>0.693878</td>\n",
       "      <td>0.252525</td>\n",
       "      <td>China</td>\n",
       "      <td>5</td>\n",
       "      <td>0</td>\n",
       "    </tr>\n",
       "    <tr>\n",
       "      <th>3</th>\n",
       "      <td>4</td>\n",
       "      <td>Lorenzo</td>\n",
       "      <td>1</td>\n",
       "      <td>9.0</td>\n",
       "      <td>0.149590</td>\n",
       "      <td>0.673469</td>\n",
       "      <td>0.797980</td>\n",
       "      <td>Russia</td>\n",
       "      <td>2</td>\n",
       "      <td>1</td>\n",
       "    </tr>\n",
       "    <tr>\n",
       "      <th>4</th>\n",
       "      <td>5</td>\n",
       "      <td>Damian</td>\n",
       "      <td>1</td>\n",
       "      <td>55.0</td>\n",
       "      <td>0.147541</td>\n",
       "      <td>0.683673</td>\n",
       "      <td>0.888889</td>\n",
       "      <td>Philippines</td>\n",
       "      <td>12</td>\n",
       "      <td>0</td>\n",
       "    </tr>\n",
       "  </tbody>\n",
       "</table>\n",
       "</div>"
      ],
      "text/plain": [
       "   customer_id      name  gender   age  annual income (lakhs)  spending score  \\\n",
       "0            1     Edith       0  29.0               0.608607        0.255102   \n",
       "1            2  Sinclair       1  53.0               0.499567        0.408163   \n",
       "2            3     Enoch       1  22.0               0.499567        0.693878   \n",
       "3            4   Lorenzo       1   9.0               0.149590        0.673469   \n",
       "4            5    Damian       1  55.0               0.147541        0.683673   \n",
       "\n",
       "   items purchased (monthly)      country  category  purchase type   \n",
       "0                   0.616162         Iran         1               0  \n",
       "1                   0.464646        China         2               1  \n",
       "2                   0.252525        China         5               0  \n",
       "3                   0.797980       Russia         2               1  \n",
       "4                   0.888889  Philippines        12               0  "
      ]
     },
     "execution_count": 9,
     "metadata": {},
     "output_type": "execute_result"
    }
   ],
   "source": [
    "df.head()"
   ]
  },
  {
   "cell_type": "code",
   "execution_count": 11,
   "metadata": {},
   "outputs": [],
   "source": [
    "features = df[['age', 'gender', 'annual income (lakhs)']]\n",
    "target = df['purchase type ']\n",
    "x_train, x_test, y_train, y_test = train_test_split(features,\n",
    "                                                    target,\n",
    "                                                    random_state=0,\n",
    "                                                    test_size=0.3)"
   ]
  },
  {
   "cell_type": "code",
   "execution_count": 13,
   "metadata": {},
   "outputs": [
    {
     "data": {
      "text/plain": [
       "0.5555555555555556"
      ]
     },
     "execution_count": 13,
     "metadata": {},
     "output_type": "execute_result"
    }
   ],
   "source": [
    "from sklearn.ensemble import BaggingClassifier\n",
    "bagging  = BaggingClassifier(random_state = 0)\n",
    "bagging.fit(x_train,y_train)\n",
    "predicted = bagging.predict(x_test)\n",
    "probability = bagging.predict_proba(x_test)[:,1]\n",
    "bagging.score(x_test,y_test)"
   ]
  },
  {
   "cell_type": "code",
   "execution_count": 14,
   "metadata": {},
   "outputs": [
    {
     "name": "stdout",
     "output_type": "stream",
     "text": [
      "[[5 4]\n",
      " [4 5]]\n",
      "              precision    recall  f1-score   support\n",
      "\n",
      "           0       0.56      0.56      0.56         9\n",
      "           1       0.56      0.56      0.56         9\n",
      "\n",
      "    accuracy                           0.56        18\n",
      "   macro avg       0.56      0.56      0.56        18\n",
      "weighted avg       0.56      0.56      0.56        18\n",
      "\n"
     ]
    }
   ],
   "source": [
    "from sklearn import metrics\n",
    "print(metrics.confusion_matrix(y_test,predicted))\n",
    "print(metrics.classification_report(y_test,predicted))"
   ]
  },
  {
   "cell_type": "code",
   "execution_count": 15,
   "metadata": {},
   "outputs": [
    {
     "name": "stdout",
     "output_type": "stream",
     "text": [
      "\n",
      "Area under the curve:  0.5555555555555556\n"
     ]
    },
    {
     "data": {
      "image/png": "[encoded data removed]",
      "text/plain": [
       "<Figure size 432x288 with 1 Axes>"
      ]
     },
     "metadata": {
      "needs_background": "light"
     },
     "output_type": "display_data"
    }
   ],
   "source": [
    "print(\"\\nArea under the curve: \", metrics.roc_auc_score(y_test, predicted))\n",
    "fpr, tpr, thresholds = metrics.roc_curve(y_test, probability)\n",
    "plt.plot(fpr, tpr, color='orange')\n",
    "plt.plot([0, 1], [0, 1], linestyle='--')\n",
    "plt.xlabel('fpr')\n",
    "plt.ylabel('tpr')\n",
    "plt.show()"
   ]
  },
  {
   "cell_type": "code",
   "execution_count": null,
   "metadata": {},
   "outputs": [],
   "source": []
  },
  {
   "cell_type": "code",
   "execution_count": null,
   "metadata": {},
   "outputs": [],
   "source": []
  }
 ],
 "metadata": {
  "kernelspec": {
   "display_name": "Python 3",
   "language": "python",
   "name": "python3"
  },
  "language_info": {
   "codemirror_mode": {
    "name": "ipython",
    "version": 3
   },
   "file_extension": ".py",
   "mimetype": "text/x-python",
   "name": "python",
   "nbconvert_exporter": "python",
   "pygments_lexer": "ipython3",
   "version": "3.8.5"
  }
 },
 "nbformat": 4,
 "nbformat_minor": 4
}
