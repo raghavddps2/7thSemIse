{
 "cells": [
  {
   "cell_type": "code",
   "execution_count": 2,
   "metadata": {},
   "outputs": [],
   "source": [
    "import pandas as pd\n",
    "import numpy as np\n",
    "import matplotlib.pyplot as plt\n",
    "import seaborn as sns\n",
    "from apyori import apriori\n",
    "from sklearn import preprocessing"
   ]
  },
  {
   "cell_type": "code",
   "execution_count": 3,
   "metadata": {},
   "outputs": [],
   "source": [
    "df = pd.read_csv('association_analysis.csv')"
   ]
  },
  {
   "cell_type": "code",
   "execution_count": 5,
   "metadata": {},
   "outputs": [
    {
     "data": {
      "text/html": [
       "<div>\n",
       "<style scoped>\n",
       "    .dataframe tbody tr th:only-of-type {\n",
       "        vertical-align: middle;\n",
       "    }\n",
       "\n",
       "    .dataframe tbody tr th {\n",
       "        vertical-align: top;\n",
       "    }\n",
       "\n",
       "    .dataframe thead th {\n",
       "        text-align: right;\n",
       "    }\n",
       "</style>\n",
       "<table border=\"1\" class=\"dataframe\">\n",
       "  <thead>\n",
       "    <tr style=\"text-align: right;\">\n",
       "      <th></th>\n",
       "      <th>tid</th>\n",
       "      <th>onion</th>\n",
       "      <th>tomato</th>\n",
       "      <th>potato</th>\n",
       "      <th>bottleguard</th>\n",
       "      <th>beans</th>\n",
       "    </tr>\n",
       "  </thead>\n",
       "  <tbody>\n",
       "    <tr>\n",
       "      <th>0</th>\n",
       "      <td>1</td>\n",
       "      <td>1</td>\n",
       "      <td>0</td>\n",
       "      <td>1</td>\n",
       "      <td>0</td>\n",
       "      <td>0</td>\n",
       "    </tr>\n",
       "    <tr>\n",
       "      <th>1</th>\n",
       "      <td>2</td>\n",
       "      <td>1</td>\n",
       "      <td>0</td>\n",
       "      <td>0</td>\n",
       "      <td>1</td>\n",
       "      <td>1</td>\n",
       "    </tr>\n",
       "    <tr>\n",
       "      <th>2</th>\n",
       "      <td>3</td>\n",
       "      <td>0</td>\n",
       "      <td>0</td>\n",
       "      <td>1</td>\n",
       "      <td>0</td>\n",
       "      <td>0</td>\n",
       "    </tr>\n",
       "    <tr>\n",
       "      <th>3</th>\n",
       "      <td>4</td>\n",
       "      <td>0</td>\n",
       "      <td>1</td>\n",
       "      <td>1</td>\n",
       "      <td>1</td>\n",
       "      <td>1</td>\n",
       "    </tr>\n",
       "    <tr>\n",
       "      <th>4</th>\n",
       "      <td>5</td>\n",
       "      <td>1</td>\n",
       "      <td>1</td>\n",
       "      <td>1</td>\n",
       "      <td>0</td>\n",
       "      <td>0</td>\n",
       "    </tr>\n",
       "  </tbody>\n",
       "</table>\n",
       "</div>"
      ],
      "text/plain": [
       "   tid  onion  tomato  potato  bottleguard  beans\n",
       "0    1      1       0       1            0      0\n",
       "1    2      1       0       0            1      1\n",
       "2    3      0       0       1            0      0\n",
       "3    4      0       1       1            1      1\n",
       "4    5      1       1       1            0      0"
      ]
     },
     "execution_count": 5,
     "metadata": {},
     "output_type": "execute_result"
    }
   ],
   "source": [
    "df.head()"
   ]
  },
  {
   "cell_type": "code",
   "execution_count": 6,
   "metadata": {},
   "outputs": [],
   "source": [
    "#As tid or transaction id is useless, we can simply remove it\n",
    "df.drop(['tid'],axis=1,inplace=True)"
   ]
  },
  {
   "cell_type": "code",
   "execution_count": 7,
   "metadata": {},
   "outputs": [
    {
     "data": {
      "text/html": [
       "<div>\n",
       "<style scoped>\n",
       "    .dataframe tbody tr th:only-of-type {\n",
       "        vertical-align: middle;\n",
       "    }\n",
       "\n",
       "    .dataframe tbody tr th {\n",
       "        vertical-align: top;\n",
       "    }\n",
       "\n",
       "    .dataframe thead th {\n",
       "        text-align: right;\n",
       "    }\n",
       "</style>\n",
       "<table border=\"1\" class=\"dataframe\">\n",
       "  <thead>\n",
       "    <tr style=\"text-align: right;\">\n",
       "      <th></th>\n",
       "      <th>onion</th>\n",
       "      <th>tomato</th>\n",
       "      <th>potato</th>\n",
       "      <th>bottleguard</th>\n",
       "      <th>beans</th>\n",
       "    </tr>\n",
       "  </thead>\n",
       "  <tbody>\n",
       "    <tr>\n",
       "      <th>0</th>\n",
       "      <td>1</td>\n",
       "      <td>0</td>\n",
       "      <td>1</td>\n",
       "      <td>0</td>\n",
       "      <td>0</td>\n",
       "    </tr>\n",
       "    <tr>\n",
       "      <th>1</th>\n",
       "      <td>1</td>\n",
       "      <td>0</td>\n",
       "      <td>0</td>\n",
       "      <td>1</td>\n",
       "      <td>1</td>\n",
       "    </tr>\n",
       "    <tr>\n",
       "      <th>2</th>\n",
       "      <td>0</td>\n",
       "      <td>0</td>\n",
       "      <td>1</td>\n",
       "      <td>0</td>\n",
       "      <td>0</td>\n",
       "    </tr>\n",
       "    <tr>\n",
       "      <th>3</th>\n",
       "      <td>0</td>\n",
       "      <td>1</td>\n",
       "      <td>1</td>\n",
       "      <td>1</td>\n",
       "      <td>1</td>\n",
       "    </tr>\n",
       "    <tr>\n",
       "      <th>4</th>\n",
       "      <td>1</td>\n",
       "      <td>1</td>\n",
       "      <td>1</td>\n",
       "      <td>0</td>\n",
       "      <td>0</td>\n",
       "    </tr>\n",
       "  </tbody>\n",
       "</table>\n",
       "</div>"
      ],
      "text/plain": [
       "   onion  tomato  potato  bottleguard  beans\n",
       "0      1       0       1            0      0\n",
       "1      1       0       0            1      1\n",
       "2      0       0       1            0      0\n",
       "3      0       1       1            1      1\n",
       "4      1       1       1            0      0"
      ]
     },
     "execution_count": 7,
     "metadata": {},
     "output_type": "execute_result"
    }
   ],
   "source": [
    "df.head()"
   ]
  },
  {
   "cell_type": "code",
   "execution_count": 9,
   "metadata": {},
   "outputs": [
    {
     "name": "stdout",
     "output_type": "stream",
     "text": [
      "[['onion', 'potato'], ['onion', 'bottleguard', 'beans'], ['potato'], ['tomato', 'potato', 'bottleguard', 'beans'], ['onion', 'tomato', 'potato'], ['tomato', 'bottleguard', 'beans'], ['tomato'], ['onion', 'potato'], ['tomato', 'potato', 'beans'], ['tomato'], ['onion', 'tomato'], ['onion', 'tomato'], ['onion', 'beans'], ['tomato', 'bottleguard', 'beans'], ['onion', 'potato', 'bottleguard'], ['tomato', 'bottleguard', 'beans'], ['bottleguard'], ['tomato', 'bottleguard', 'beans'], ['onion', 'beans'], ['onion', 'tomato', 'beans'], ['onion', 'tomato', 'potato', 'bottleguard'], ['onion', 'tomato', 'potato', 'beans'], ['potato', 'bottleguard'], ['onion'], ['onion', 'tomato', 'potato', 'bottleguard', 'beans'], ['onion', 'tomato'], ['tomato', 'potato', 'bottleguard', 'beans'], ['onion', 'bottleguard'], ['onion', 'potato', 'bottleguard', 'beans'], ['tomato', 'beans'], ['onion', 'tomato', 'potato', 'bottleguard', 'beans'], ['potato'], ['tomato', 'potato'], ['potato', 'beans'], ['potato', 'bottleguard'], ['onion', 'tomato', 'potato'], ['onion', 'tomato', 'potato', 'bottleguard'], ['beans'], ['onion', 'potato', 'beans'], ['onion', 'bottleguard', 'beans'], ['onion', 'tomato', 'beans'], ['tomato', 'potato'], ['potato'], ['beans'], ['bottleguard'], ['tomato', 'bottleguard', 'beans'], ['onion', 'tomato', 'potato', 'beans'], ['bottleguard'], ['tomato', 'potato', 'bottleguard'], ['onion', 'tomato', 'bottleguard'], ['onion', 'tomato', 'potato', 'bottleguard', 'beans']]\n"
     ]
    }
   ],
   "source": [
    "# We need to simply form the records.\n",
    "records = []\n",
    "for i in range(len(df)):\n",
    "    record = []\n",
    "    for j in range(len(df.columns)):\n",
    "        if df.values[i,j]:\n",
    "            # We just add the column.\n",
    "            record.append(df.columns[j])\n",
    "    records.append(record)\n",
    "print(records)"
   ]
  },
  {
   "cell_type": "code",
   "execution_count": 10,
   "metadata": {},
   "outputs": [
    {
     "name": "stdout",
     "output_type": "stream",
     "text": [
      "[['onion', 'potato'], ['onion', 'bottleguard', 'beans'], ['potato']]\n"
     ]
    }
   ],
   "source": [
    "print(records[:3])"
   ]
  },
  {
   "cell_type": "code",
   "execution_count": null,
   "metadata": {},
   "outputs": [],
   "source": [
    "#We get all the items in the form of the list."
   ]
  },
  {
   "cell_type": "code",
   "execution_count": 11,
   "metadata": {},
   "outputs": [],
   "source": [
    "min_sup = 0.03\n",
    "min_confidence = 0.7\n",
    "#Pass all the records we have\n",
    "rules = apriori(records,min_support=min_sup,min_confidence=min_confidence)\n",
    "rules = list(rules)"
   ]
  },
  {
   "cell_type": "code",
   "execution_count": 17,
   "metadata": {},
   "outputs": [
    {
     "name": "stdout",
     "output_type": "stream",
     "text": [
      "frozenset({'bottleguard', 'tomato', 'beans'})\n",
      "0.19607843137254902\n",
      "[OrderedStatistic(items_base=frozenset({'bottleguard', 'beans'}), items_add=frozenset({'tomato'}), confidence=0.7692307692307693, lift=1.3527851458885942), OrderedStatistic(items_base=frozenset({'bottleguard', 'tomato'}), items_add=frozenset({'beans'}), confidence=0.7142857142857142, lift=1.457142857142857)]\n"
     ]
    }
   ],
   "source": [
    "for i in rules[0]:\n",
    "    print(i)"
   ]
  },
  {
   "cell_type": "code",
   "execution_count": 19,
   "metadata": {},
   "outputs": [
    {
     "name": "stdout",
     "output_type": "stream",
     "text": [
      "Rule:  ['bottleguard', 'tomato', 'beans'] Support 0.19607843137254902 Confidence:  0.7692307692307693\n",
      "Rule:  ['tomato', 'beans', 'potato'] Support 0.1568627450980392 Confidence:  0.7272727272727272\n",
      "Rule:  ['bottleguard', 'tomato', 'beans', 'potato'] Support 0.09803921568627451 Confidence:  0.8333333333333334\n",
      "Rule:  ['tomato', 'beans', 'potato', 'onion'] Support 0.09803921568627451 Confidence:  0.7142857142857142\n",
      "Rule:  ['bottleguard', 'tomato', 'potato', 'onion'] Support 0.09803921568627451 Confidence:  0.7142857142857142\n",
      "Rule:  ['bottleguard', 'tomato', 'potato', 'onion', 'beans'] Support 0.058823529411764705 Confidence:  0.75\n"
     ]
    }
   ],
   "source": [
    "for rule in rules:\n",
    "    items = [i for i in rule[0]]\n",
    "    print(\"Rule: \", items, \"Support\", rule[1], \"Confidence: \",rule[2][0][2])"
   ]
  },
  {
   "cell_type": "code",
   "execution_count": null,
   "metadata": {},
   "outputs": [],
   "source": []
  }
 ],
 "metadata": {
  "kernelspec": {
   "display_name": "Python 3",
   "language": "python",
   "name": "python3"
  },
  "language_info": {
   "codemirror_mode": {
    "name": "ipython",
    "version": 3
   },
   "file_extension": ".py",
   "mimetype": "text/x-python",
   "name": "python",
   "nbconvert_exporter": "python",
   "pygments_lexer": "ipython3",
   "version": "3.8.5"
  }
 },
 "nbformat": 4,
 "nbformat_minor": 4
}
