{
 "cells": [
  {
   "cell_type": "code",
   "execution_count": 2,
   "metadata": {},
   "outputs": [],
   "source": [
    "import pandas as pd\n",
    "import numpy as np\n",
    "from sklearn import metrics\n",
    "from sklearn.model_selection import train_test_split\n",
    "from sklearn import preprocessing\n",
    "import matplotlib.pyplot as plt\n",
    "import seaborn as sns\n",
    "from sklearn.cluster import KMeans"
   ]
  },
  {
   "cell_type": "code",
   "execution_count": 4,
   "metadata": {},
   "outputs": [
    {
     "name": "stdout",
     "output_type": "stream",
     "text": [
      "customer_id                   0\n",
      "name                          0\n",
      "gender                       10\n",
      "age                           5\n",
      "annual income (lakhs)         8\n",
      "spending score                0\n",
      "items purchased (monthly)     0\n",
      "country                       0\n",
      "category                     13\n",
      "purchase type                 0\n",
      "dtype: int64\n"
     ]
    }
   ],
   "source": [
    "\n",
    "df = pd.read_csv(\"CustomerData.csv\")\n",
    "df.head()\n",
    "\n",
    "# Data Processing\n",
    "print(df.isnull().sum())\n",
    "df.gender.fillna(df.gender.mode()[0], inplace=True)\n",
    "df.category.fillna(df.category.mode()[0], inplace=True)\n",
    "df.age.fillna(int(df.age.mean()), inplace=True)\n",
    "df[\"annual income (lakhs)\"].fillna(df[\"annual income (lakhs)\"].mean(),\n",
    "                                   inplace=True)"
   ]
  },
  {
   "cell_type": "code",
   "execution_count": 5,
   "metadata": {},
   "outputs": [
    {
     "name": "stdout",
     "output_type": "stream",
     "text": [
      "customer_id                  0\n",
      "name                         0\n",
      "gender                       0\n",
      "age                          0\n",
      "annual income (lakhs)        0\n",
      "spending score               0\n",
      "items purchased (monthly)    0\n",
      "country                      0\n",
      "category                     0\n",
      "purchase type                0\n",
      "dtype: int64\n"
     ]
    }
   ],
   "source": [
    "print(df.isnull().sum())"
   ]
  },
  {
   "cell_type": "code",
   "execution_count": 6,
   "metadata": {},
   "outputs": [
    {
     "name": "stdout",
     "output_type": "stream",
     "text": [
      "   customer_id      name  gender   age  annual income (lakhs)  spending score  \\\n",
      "0            1     Edith       0  29.0              40.900000              27   \n",
      "1            2  Sinclair       1  53.0              35.578846              42   \n",
      "2            3     Enoch       1  22.0              35.578846              70   \n",
      "3            4   Lorenzo       1   9.0              18.500000              68   \n",
      "4            5    Damian       1  55.0              18.400000              69   \n",
      "\n",
      "   items purchased (monthly)      country  category  purchase type   \n",
      "0                         62         Iran         1               0  \n",
      "1                         47        China         2               1  \n",
      "2                         26        China         5               0  \n",
      "3                         80       Russia         2               1  \n",
      "4                         89  Philippines        12               0  \n",
      "   customer_id      name  gender   age  annual income (lakhs)  spending score  \\\n",
      "0            1     Edith       0  29.0               0.608607        0.255102   \n",
      "1            2  Sinclair       1  53.0               0.499567        0.408163   \n",
      "2            3     Enoch       1  22.0               0.499567        0.693878   \n",
      "3            4   Lorenzo       1   9.0               0.149590        0.673469   \n",
      "4            5    Damian       1  55.0               0.147541        0.683673   \n",
      "\n",
      "   items purchased (monthly)      country  category  purchase type   \n",
      "0                   0.616162         Iran         1               0  \n",
      "1                   0.464646        China         2               1  \n",
      "2                   0.252525        China         5               0  \n",
      "3                   0.797980       Russia         2               1  \n",
      "4                   0.888889  Philippines        12               0  \n"
     ]
    }
   ],
   "source": [
    "\n",
    "encoder = preprocessing.LabelEncoder()\n",
    "df[[\"category\", \"purchase type \",\n",
    "    \"gender\"]] = df[[\"category\", \"purchase type \",\n",
    "                     \"gender\"]].apply(encoder.fit_transform)\n",
    "print(df.head())\n",
    "scaler = preprocessing.MinMaxScaler()\n",
    "df[[\"spending score\", \"items purchased (monthly)\",\n",
    "    \"annual income (lakhs)\"]] = scaler.fit_transform(df[[\n",
    "        \"spending score\", \"items purchased (monthly)\", \"annual income (lakhs)\"\n",
    "    ]])\n",
    "print(df.head())\n",
    "features = df[['age', 'gender', 'annual income (lakhs)']]\n",
    "target = df['purchase type ']\n",
    "x_train, x_test, y_train, y_test = train_test_split(features,\n",
    "                                                    target,\n",
    "                                                    random_state=0,\n",
    "                                                    test_size=0.3)"
   ]
  },
  {
   "cell_type": "code",
   "execution_count": 7,
   "metadata": {},
   "outputs": [
    {
     "name": "stdout",
     "output_type": "stream",
     "text": [
      "cluster centers:  [[ 0.7        28.7        13.1       ]\n",
      " [ 0.81818182 17.90909091  5.54545455]\n",
      " [ 0.5        53.          6.875     ]\n",
      " [ 0.63636364 36.18181818  2.45454545]\n",
      " [ 1.          5.16666667  7.66666667]]\n"
     ]
    },
    {
     "name": "stderr",
     "output_type": "stream",
     "text": [
      "<ipython-input-7-48496ff97514>:5: SettingWithCopyWarning: \n",
      "A value is trying to be set on a copy of a slice from a DataFrame.\n",
      "Try using .loc[row_indexer,col_indexer] = value instead\n",
      "\n",
      "See the caveats in the documentation: https://pandas.pydata.org/pandas-docs/stable/user_guide/indexing.html#returning-a-view-versus-a-copy\n",
      "  dataframe['cluster'] = kmeans.labels_\n"
     ]
    }
   ],
   "source": [
    "dataframe = df[['gender','age','category']]\n",
    "kmeans = KMeans(n_clusters=5,random_state=0)\n",
    "kmeans.fit_predict(dataframe)\n",
    "print(\"cluster centers: \", kmeans.cluster_centers_)\n",
    "dataframe['cluster'] = kmeans.labels_"
   ]
  },
  {
   "cell_type": "code",
   "execution_count": 9,
   "metadata": {},
   "outputs": [
    {
     "data": {
      "text/html": [
       "<div>\n",
       "<style scoped>\n",
       "    .dataframe tbody tr th:only-of-type {\n",
       "        vertical-align: middle;\n",
       "    }\n",
       "\n",
       "    .dataframe tbody tr th {\n",
       "        vertical-align: top;\n",
       "    }\n",
       "\n",
       "    .dataframe thead th {\n",
       "        text-align: right;\n",
       "    }\n",
       "</style>\n",
       "<table border=\"1\" class=\"dataframe\">\n",
       "  <thead>\n",
       "    <tr style=\"text-align: right;\">\n",
       "      <th></th>\n",
       "      <th>gender</th>\n",
       "      <th>age</th>\n",
       "      <th>category</th>\n",
       "      <th>cluster</th>\n",
       "    </tr>\n",
       "  </thead>\n",
       "  <tbody>\n",
       "    <tr>\n",
       "      <th>0</th>\n",
       "      <td>0</td>\n",
       "      <td>29.0</td>\n",
       "      <td>1</td>\n",
       "      <td>3</td>\n",
       "    </tr>\n",
       "    <tr>\n",
       "      <th>1</th>\n",
       "      <td>1</td>\n",
       "      <td>53.0</td>\n",
       "      <td>2</td>\n",
       "      <td>2</td>\n",
       "    </tr>\n",
       "    <tr>\n",
       "      <th>2</th>\n",
       "      <td>1</td>\n",
       "      <td>22.0</td>\n",
       "      <td>5</td>\n",
       "      <td>1</td>\n",
       "    </tr>\n",
       "    <tr>\n",
       "      <th>3</th>\n",
       "      <td>1</td>\n",
       "      <td>9.0</td>\n",
       "      <td>2</td>\n",
       "      <td>4</td>\n",
       "    </tr>\n",
       "    <tr>\n",
       "      <th>4</th>\n",
       "      <td>1</td>\n",
       "      <td>55.0</td>\n",
       "      <td>12</td>\n",
       "      <td>2</td>\n",
       "    </tr>\n",
       "  </tbody>\n",
       "</table>\n",
       "</div>"
      ],
      "text/plain": [
       "   gender   age  category  cluster\n",
       "0       0  29.0         1        3\n",
       "1       1  53.0         2        2\n",
       "2       1  22.0         5        1\n",
       "3       1   9.0         2        4\n",
       "4       1  55.0        12        2"
      ]
     },
     "execution_count": 9,
     "metadata": {},
     "output_type": "execute_result"
    }
   ],
   "source": [
    "dataframe.head()"
   ]
  },
  {
   "cell_type": "code",
   "execution_count": 16,
   "metadata": {},
   "outputs": [
    {
     "data": {
      "text/plain": [
       "<AxesSubplot:xlabel='age', ylabel='category'>"
      ]
     },
     "execution_count": 16,
     "metadata": {},
     "output_type": "execute_result"
    },
    {
     "data": {
      "image/png": "[encoded data removed]",
      "text/plain": [
       "<Figure size 432x288 with 1 Axes>"
      ]
     },
     "metadata": {
      "needs_background": "light"
     },
     "output_type": "display_data"
    }
   ],
   "source": [
    "sns.scatterplot(data=dataframe,x = dataframe.age,y = dataframe.category,hue='cluster')"
   ]
  },
  {
   "cell_type": "code",
   "execution_count": null,
   "metadata": {},
   "outputs": [],
   "source": []
  }
 ],
 "metadata": {
  "kernelspec": {
   "display_name": "Python 3",
   "language": "python",
   "name": "python3"
  },
  "language_info": {
   "codemirror_mode": {
    "name": "ipython",
    "version": 3
   },
   "file_extension": ".py",
   "mimetype": "text/x-python",
   "name": "python",
   "nbconvert_exporter": "python",
   "pygments_lexer": "ipython3",
   "version": "3.8.5"
  }
 },
 "nbformat": 4,
 "nbformat_minor": 4
}
